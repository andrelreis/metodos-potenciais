{
 "cells": [
  {
   "cell_type": "markdown",
   "metadata": {},
   "source": [
    "# Modelagem 2D de uma bacia sedimentar "
   ]
  },
  {
   "cell_type": "markdown",
   "metadata": {},
   "source": [
    "## Importando as bibliotecas"
   ]
  },
  {
   "cell_type": "code",
   "execution_count": 1,
   "metadata": {},
   "outputs": [],
   "source": [
    "import numpy as np\n",
    "import matplotlib.pyplot as plt"
   ]
  },
  {
   "cell_type": "markdown",
   "metadata": {},
   "source": [
    "## Calculando as profundidades verdadeiras da bacia através de uma função matemática"
   ]
  },
  {
   "cell_type": "code",
   "execution_count": 2,
   "metadata": {},
   "outputs": [],
   "source": [
    "xs = np.arange(0, 100000,100)[::-1]\n",
    "depths = (-1e-15*(xs - 50000)**4 + 7000. - 2500*np.exp(-(xs - 70000)**2/(10000**2)))\n",
    "depths -= depths.min()"
   ]
  },
  {
   "cell_type": "markdown",
   "metadata": {},
   "source": [
    "### Visualização da bacia"
   ]
  },
  {
   "cell_type": "code",
   "execution_count": 3,
   "metadata": {},
   "outputs": [
    {
     "data": {
      "image/png": "[encoded data removed]",
      "text/plain": [
       "<Figure size 1080x360 with 1 Axes>"
      ]
     },
     "metadata": {
      "needs_background": "light"
     },
     "output_type": "display_data"
    }
   ],
   "source": [
    "plt.figure(figsize=(15,5))\n",
    "\n",
    "plt.xlabel('x (m)', fontsize = 16)\n",
    "plt.ylabel('Depth (m)', fontsize = 16)\n",
    "plt.fill_between(xs,depths,max(depths),color='black')\n",
    "plt.fill_between(xs,depths,color='orange')\n",
    "plt.xlim(min(xs),max(xs))\n",
    "plt.ylim(max(depths),min(depths))\n",
    "plt.xticks(fontsize = 12)\n",
    "plt.yticks(fontsize = 12)\n",
    "\n",
    "plt.show()\n"
   ]
  },
  {
   "cell_type": "markdown",
   "metadata": {},
   "source": [
    "## Desenvolvendo a função que gera o efeito gravitacional gerado pela bacia 2D baseado no método de Talwani et al. (1959)"
   ]
  },
  {
   "cell_type": "markdown",
   "metadata": {},
   "source": [
    "**[Referência bibliográfica]**\n",
    "\n",
    "* Talwani, M., J. L. Worzel, and M. Landisman (1959), Rapid Gravity Computations for Two-Dimensional Bodies with Application to the Mendocino Submarine Fracture Zone, J. Geophys. Res., 64(1), 49-59, doi:10.1029/JZ064i001p00049\n",
    "\n"
   ]
  },
  {
   "cell_type": "code",
   "execution_count": 4,
   "metadata": {},
   "outputs": [],
   "source": [
    "def talwani(xc,zc,x_verts,z_verts,density=None):\n",
    "    \"\"\"\n",
    "    Calculo da atracao gravitacional de um corpo bidimensional aproximado por um poligono\n",
    "    vertical utilizando a formula de Talwani et al. (1959).\n",
    "    \n",
    "    input\n",
    "    \n",
    "    x: numpy array - Coordenadas x de observacao\n",
    "    z: numpy array - Coordenadas z de observacao\n",
    "    model: lista - Lista com os vértices do poligono\n",
    "    \n",
    "    return\n",
    "    \n",
    "    gz: numpy array - Atracao gravitacional gerado pelo conjunto de poligonos\n",
    "    \n",
    "    \"\"\"\n",
    "    gamma = 6.670*1e-11\n",
    "    SI2MGAL = 1.0*1e5\n",
    "    \n",
    "    if xc.shape != zc.shape: \n",
    "        raise ValueError(\"As coordenadas de observacao devem ter o mesmo shape\")\n",
    "    \n",
    "    gamma = 6.670*1e-11\n",
    "    SI2MGAL = 1.0*1e5\n",
    "    \n",
    "    nverts = x_verts.size\n",
    "    resultado = np.zeros_like(xc)\n",
    "    for v in range(nverts):\n",
    "        # Mudanca de coordenadas do vertice\n",
    "        xv = x_verts[v] - xc\n",
    "        zv = z_verts[v] - zc\n",
    "        # O ultimo par de vertices igual ao primeiro\n",
    "        if v == nverts - 1:\n",
    "            xv1 = x_verts[0] - xc\n",
    "            zv1 = z_verts[0] - zc\n",
    "        else:\n",
    "            xv1 = x_verts[v + 1] - xc\n",
    "            zv1 = z_verts[v + 1] - zc  \n",
    "        # Determinando as condicoes onde os limites nao funcionam    \n",
    "        xv[xv == 0.] = xv[xv == 0.] + 0.01\n",
    "        xv[xv == xv1] = xv[xv == xv1] + 0.01\n",
    "        zv[zv[xv == zv] == 0.] = zv[zv[xv == zv] == 0.] + 0.01\n",
    "        zv[zv == zv1] = zv[zv == zv1] + 0.01\n",
    "        zv1[zv1[xv1 == zv1] == 0.] = zv1[zv1[xv1 == zv1] == 0.] + 0.01\n",
    "        xv1[xv1 == 0.] = xv1[xv1 == 0.] + 0.01\n",
    "        # Comecando o calculo do efeito da gravidade\n",
    "        phi_v = np.arctan2(zv1 - zv, xv1 - xv)\n",
    "        ai = xv1 + zv1 * (xv1 - xv) / (zv - zv1)\n",
    "        theta_v = np.arctan2(zv, xv)\n",
    "        theta_v1 = np.arctan2(zv1, xv1)\n",
    "        theta_v[theta_v < 0] += np.pi\n",
    "        theta_v1[theta_v1 < 0] += np.pi\n",
    "        tmp = ai * np.sin(phi_v) * np.cos(phi_v) * (\n",
    "        theta_v - theta_v1 + np.tan(phi_v) * np.log(\n",
    "        (np.cos(theta_v) * (np.tan(theta_v) - np.tan(phi_v))) /\n",
    "        (np.cos(theta_v1) * (np.tan(theta_v1) - np.tan(phi_v)))))\n",
    "        tmp[theta_v == theta_v1] = 0.\n",
    "        resultado = resultado + tmp * density\n",
    "    gz = 2*resultado*SI2MGAL*gamma\n",
    "    return gz"
   ]
  },
  {
   "cell_type": "markdown",
   "metadata": {},
   "source": [
    "## Gerando as coordenadas de observação "
   ]
  },
  {
   "cell_type": "code",
   "execution_count": 5,
   "metadata": {},
   "outputs": [],
   "source": [
    "xp = np.arange(0,100000, step= 500)"
   ]
  },
  {
   "cell_type": "code",
   "execution_count": 6,
   "metadata": {},
   "outputs": [],
   "source": [
    "zp = -1.*np.ones_like(xp)"
   ]
  },
  {
   "cell_type": "markdown",
   "metadata": {},
   "source": [
    "## Calculando o efeito gravitacional ($g_z$) da bacia sedimentar considerando um contraste de densidade $\\Delta\\rho = -300 \\, kg/m^3$"
   ]
  },
  {
   "cell_type": "code",
   "execution_count": 7,
   "metadata": {},
   "outputs": [
    {
     "ename": "NameError",
     "evalue": "name 'x' is not defined",
     "output_type": "error",
     "traceback": [
      "\u001b[0;31m---------------------------------------------------------------------------\u001b[0m",
      "\u001b[0;31mNameError\u001b[0m                                 Traceback (most recent call last)",
      "\u001b[0;32m<ipython-input-7-2725dc0af75a>\u001b[0m in \u001b[0;36m<module>\u001b[0;34m\u001b[0m\n\u001b[0;32m----> 1\u001b[0;31m \u001b[0mgz\u001b[0m \u001b[0;34m=\u001b[0m \u001b[0mtalwani\u001b[0m\u001b[0;34m(\u001b[0m\u001b[0mxp\u001b[0m\u001b[0;34m,\u001b[0m\u001b[0mzp\u001b[0m\u001b[0;34m,\u001b[0m\u001b[0mxs\u001b[0m\u001b[0;34m,\u001b[0m\u001b[0mdepths\u001b[0m\u001b[0;34m,\u001b[0m\u001b[0mdensity\u001b[0m\u001b[0;34m=\u001b[0m\u001b[0;34m-\u001b[0m\u001b[0;36m300.\u001b[0m\u001b[0;34m)\u001b[0m\u001b[0;34m\u001b[0m\u001b[0;34m\u001b[0m\u001b[0m\n\u001b[0m",
      "\u001b[0;32m<ipython-input-4-7801d3e16836>\u001b[0m in \u001b[0;36mtalwani\u001b[0;34m(xc, zc, x_verts, z_verts, density)\u001b[0m\n\u001b[1;32m     17\u001b[0m     \u001b[0mgamma\u001b[0m \u001b[0;34m=\u001b[0m \u001b[0;36m6.670\u001b[0m\u001b[0;34m*\u001b[0m\u001b[0;36m1e-11\u001b[0m\u001b[0;34m\u001b[0m\u001b[0;34m\u001b[0m\u001b[0m\n\u001b[1;32m     18\u001b[0m     \u001b[0mSI2MGAL\u001b[0m \u001b[0;34m=\u001b[0m \u001b[0;36m1.0\u001b[0m\u001b[0;34m*\u001b[0m\u001b[0;36m1e5\u001b[0m\u001b[0;34m\u001b[0m\u001b[0;34m\u001b[0m\u001b[0m\n\u001b[0;32m---> 19\u001b[0;31m     \u001b[0;32mif\u001b[0m \u001b[0mx\u001b[0m\u001b[0;34m.\u001b[0m\u001b[0mshape\u001b[0m \u001b[0;34m!=\u001b[0m \u001b[0mz\u001b[0m\u001b[0;34m.\u001b[0m\u001b[0mshape\u001b[0m\u001b[0;34m:\u001b[0m\u001b[0;34m\u001b[0m\u001b[0;34m\u001b[0m\u001b[0m\n\u001b[0m\u001b[1;32m     20\u001b[0m         \u001b[0;32mraise\u001b[0m \u001b[0mValueError\u001b[0m\u001b[0;34m(\u001b[0m\u001b[0;34m\"As coordenadas de observacao devem ter o mesmo shape\"\u001b[0m\u001b[0;34m)\u001b[0m\u001b[0;34m\u001b[0m\u001b[0;34m\u001b[0m\u001b[0m\n\u001b[1;32m     21\u001b[0m \u001b[0;34m\u001b[0m\u001b[0m\n",
      "\u001b[0;31mNameError\u001b[0m: name 'x' is not defined"
     ]
    }
   ],
   "source": [
    "gz = talwani(xp,zp,xs,depths,density=-300.)"
   ]
  },
  {
   "cell_type": "markdown",
   "metadata": {},
   "source": [
    "## Visualização dos dados observados"
   ]
  },
  {
   "cell_type": "code",
   "execution_count": null,
   "metadata": {},
   "outputs": [],
   "source": [
    "fig, (ax1, ax2) = plt.subplots(2, sharex=True,figsize=(20,10))\n",
    "\n",
    "## Efeito gravitacional da bacia\n",
    "ax1.set_title('Bacia sedimentar 2D')\n",
    "ax1.set_ylabel('$g_z$ (mGal)', fontsize = 16)\n",
    "ax1.plot(xp,gz,'k.')\n",
    "\n",
    "## Bacia 2D\n",
    "ax2.set_xlabel('x (m)', fontsize = 16)\n",
    "ax2.set_ylabel('Depth (m)', fontsize = 16)\n",
    "ax2.fill_between(xs,depths,max(depths),color='black')\n",
    "ax2.fill_between(xs,depths,color='orange')\n",
    "ax2.set_xlim(min(xs),max(xs))\n",
    "ax2.set_ylim(max(depths),min(depths))\n",
    "\n",
    "plt.show()"
   ]
  },
  {
   "cell_type": "code",
   "execution_count": null,
   "metadata": {},
   "outputs": [],
   "source": []
  },
  {
   "cell_type": "code",
   "execution_count": null,
   "metadata": {},
   "outputs": [],
   "source": []
  },
  {
   "cell_type": "code",
   "execution_count": null,
   "metadata": {},
   "outputs": [],
   "source": []
  }
 ],
 "metadata": {
  "kernelspec": {
   "display_name": "Python 3",
   "language": "python",
   "name": "python3"
  },
  "language_info": {
   "codemirror_mode": {
    "name": "ipython",
    "version": 3
   },
   "file_extension": ".py",
   "mimetype": "text/x-python",
   "name": "python",
   "nbconvert_exporter": "python",
   "pygments_lexer": "ipython3",
   "version": "3.7.6"
  }
 },
 "nbformat": 4,
 "nbformat_minor": 2
}
