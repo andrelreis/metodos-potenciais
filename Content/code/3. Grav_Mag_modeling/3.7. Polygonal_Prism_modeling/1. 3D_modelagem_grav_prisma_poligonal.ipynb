{
 "cells": [
  {
   "cell_type": "markdown",
   "metadata": {},
   "source": [
    "# Modelagem 3D de um prisma poligonal "
   ]
  },
  {
   "cell_type": "markdown",
   "metadata": {},
   "source": [
    "**[Referências]**\n",
    "\n",
    "* Plouff, D. , 1976, Gravity and magnetic fields of polygonal prisms and applications to magnetic terrain corrections, Geophysics, 41(4), 727-741. https://doi.org/10.1190/1.1440645."
   ]
  },
  {
   "cell_type": "markdown",
   "metadata": {},
   "source": [
    "## Importando as bibliotecas"
   ]
  },
  {
   "cell_type": "code",
   "execution_count": 1,
   "metadata": {},
   "outputs": [],
   "source": [
    "import numpy as np\n",
    "import matplotlib.pyplot as plt"
   ]
  },
  {
   "cell_type": "code",
   "execution_count": 2,
   "metadata": {},
   "outputs": [],
   "source": [
    "#import polyprism_grav ### Ainda precisa melhorar o código"
   ]
  },
  {
   "cell_type": "markdown",
   "metadata": {},
   "source": [
    "## Gerando os parâmetros do sistema de coordenadas "
   ]
  },
  {
   "cell_type": "code",
   "execution_count": 3,
   "metadata": {},
   "outputs": [],
   "source": [
    "Nx = 100\n",
    "Ny = 50\n",
    "area = [-1000.,1000.,-1000.,1000.]\n",
    "shape = (Nx,Ny)"
   ]
  },
  {
   "cell_type": "code",
   "execution_count": 4,
   "metadata": {},
   "outputs": [],
   "source": [
    "x = np.linspace(area[0],area[1],num=Nx)\n",
    "y = np.linspace(area[2],area[3],num=Ny) \n",
    "yc,xc = np.meshgrid(y,x)"
   ]
  },
  {
   "cell_type": "code",
   "execution_count": 5,
   "metadata": {},
   "outputs": [],
   "source": [
    "voo = -100.\n",
    "zc = voo*np.ones_like(xc)"
   ]
  },
  {
   "cell_type": "code",
   "execution_count": 6,
   "metadata": {},
   "outputs": [],
   "source": [
    "coordenadas = np.array([yc.ravel(),xc.ravel(),zc.ravel()])"
   ]
  },
  {
   "cell_type": "markdown",
   "metadata": {},
   "source": [
    "## Gerando os parâmetros do prisma"
   ]
  },
  {
   "cell_type": "code",
   "execution_count": 7,
   "metadata": {},
   "outputs": [],
   "source": [
    "rho = np.array([3000.])"
   ]
  },
  {
   "cell_type": "code",
   "execution_count": 8,
   "metadata": {},
   "outputs": [],
   "source": [
    "y_verts = np.array([-250.,0.,500.,-500.,-250.])\n",
    "x_verts = np.array([[250.,750.,0.,-500.,250.]])\n",
    "top = np.array([100.])\n",
    "bottom = np.array([250.])"
   ]
  },
  {
   "cell_type": "code",
   "execution_count": 10,
   "metadata": {},
   "outputs": [],
   "source": [
    "vertices = np.vstack([y_verts,x_verts])"
   ]
  },
  {
   "cell_type": "code",
   "execution_count": 11,
   "metadata": {},
   "outputs": [
    {
     "data": {
      "text/plain": [
       "array([[-250.,    0.,  500., -500., -250.],\n",
       "       [ 250.,  750.,    0., -500.,  250.]])"
      ]
     },
     "execution_count": 11,
     "metadata": {},
     "output_type": "execute_result"
    }
   ],
   "source": [
    "vertices"
   ]
  },
  {
   "cell_type": "markdown",
   "metadata": {},
   "source": [
    "## Cálculo das componentes do campo de gravidade e do potencial"
   ]
  },
  {
   "cell_type": "code",
   "execution_count": null,
   "metadata": {},
   "outputs": [],
   "source": [
    "gz = prism_grav.gravitational(coordenadas,modelo,rho,field=\"g_z\")"
   ]
  },
  {
   "cell_type": "markdown",
   "metadata": {},
   "source": [
    "## Visualização dos dados calculados "
   ]
  },
  {
   "cell_type": "code",
   "execution_count": null,
   "metadata": {},
   "outputs": [],
   "source": [
    "title_font = 18\n",
    "bottom_font = 15\n",
    "plt.close('all')\n",
    "plt.figure(figsize=(15,10), tight_layout=True)\n",
    "\n",
    "plt.subplot(2,2,1)\n",
    "plt.xlabel('easting (m)', fontsize = title_font)\n",
    "plt.ylabel('northing (m)', fontsize = title_font)\n",
    "plt.title('Potencial ($10^5$ J/kg)', fontsize=title_font)\n",
    "plt.pcolor(yc,xc,potencial.reshape(shape),shading='auto',cmap='viridis')\n",
    "plt.tick_params(axis='both', which='major', labelsize=bottom_font)\n",
    "cb = plt.colorbar(pad=0.01, aspect=40, shrink=1.0)\n",
    "cb.ax.tick_params(labelsize=bottom_font)\n",
    "\n",
    "plt.subplot(2,2,2)\n",
    "plt.xlabel('easting (m)', fontsize = title_font)\n",
    "plt.ylabel('northing (m)', fontsize = title_font)\n",
    "plt.title('$g_z$ (mGal)', fontsize=title_font)\n",
    "plt.pcolor(yc,xc,gz.reshape(shape),shading='auto',cmap='viridis')\n",
    "plt.tick_params(axis='both', which='major', labelsize=bottom_font)\n",
    "cb = plt.colorbar(pad=0.01, aspect=40, shrink=1.0)\n",
    "cb.ax.tick_params(labelsize=bottom_font)\n",
    "\n",
    "plt.subplot(2,2,3)\n",
    "plt.xlabel('easting (m)', fontsize = title_font)\n",
    "plt.ylabel('northing (m)', fontsize = title_font)\n",
    "plt.title('$g_x$ (mGal)', fontsize=title_font)\n",
    "plt.pcolor(yc,xc,gx.reshape(shape),shading='auto',cmap='viridis')\n",
    "plt.tick_params(axis='both', which='major', labelsize=bottom_font)\n",
    "cb = plt.colorbar(pad=0.01, aspect=40, shrink=1.0)\n",
    "cb.ax.tick_params(labelsize=bottom_font)\n",
    "\n",
    "plt.subplot(2,2,4)\n",
    "plt.xlabel('easting (m)', fontsize = title_font)\n",
    "plt.ylabel('northing (m)', fontsize = title_font)\n",
    "plt.title('$g_y$ (mGal)', fontsize=title_font)\n",
    "plt.pcolor(yc,xc,gy.reshape(shape),shading='auto',cmap='viridis')\n",
    "plt.tick_params(axis='both', which='major', labelsize=bottom_font)\n",
    "cb = plt.colorbar(pad=0.01, aspect=40, shrink=1.0)\n",
    "cb.ax.tick_params(labelsize=bottom_font)\n",
    "\n",
    "file_name = 'images/forward_modeling_mag_prism_grav'\n",
    "plt.savefig(file_name+'.png',dpi=300)\n",
    "\n",
    "plt.show()"
   ]
  },
  {
   "cell_type": "code",
   "execution_count": null,
   "metadata": {},
   "outputs": [],
   "source": []
  }
 ],
 "metadata": {
  "kernelspec": {
   "display_name": "Python 3 (ipykernel)",
   "language": "python",
   "name": "python3"
  },
  "language_info": {
   "codemirror_mode": {
    "name": "ipython",
    "version": 3
   },
   "file_extension": ".py",
   "mimetype": "text/x-python",
   "name": "python",
   "nbconvert_exporter": "python",
   "pygments_lexer": "ipython3",
   "version": "3.11.5"
  }
 },
 "nbformat": 4,
 "nbformat_minor": 4
}
