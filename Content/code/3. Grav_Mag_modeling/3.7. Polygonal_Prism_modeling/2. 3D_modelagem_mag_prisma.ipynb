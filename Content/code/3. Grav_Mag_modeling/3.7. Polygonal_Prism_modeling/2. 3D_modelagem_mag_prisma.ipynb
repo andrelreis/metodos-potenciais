{
 "cells": [
  {
   "cell_type": "markdown",
   "metadata": {},
   "source": [
    "# Modelagem magnética 3D de um prisma retangular "
   ]
  },
  {
   "cell_type": "markdown",
   "metadata": {},
   "source": [
    "**[Referências]**\n",
    "\n",
    "* Nagy, D., G. Papp, and J. Benedek (2000), The gravitational potential and its derivatives for the prism: Journal of Geodesy, 74, 552–560, doi: 10.1007/s001900000116."
   ]
  },
  {
   "cell_type": "markdown",
   "metadata": {},
   "source": [
    "## Importando as bibliotecas"
   ]
  },
  {
   "cell_type": "code",
   "execution_count": 1,
   "metadata": {},
   "outputs": [],
   "source": [
    "import numpy as np\n",
    "import matplotlib.pyplot as plt"
   ]
  },
  {
   "cell_type": "code",
   "execution_count": 2,
   "metadata": {},
   "outputs": [],
   "source": [
    "a = np.array([[1,2,3,4],\n",
    "             [2,2,2,2]])\n",
    "\n",
    "poly = [a]"
   ]
  },
  {
   "cell_type": "code",
   "execution_count": 5,
   "metadata": {},
   "outputs": [
    {
     "data": {
      "text/plain": [
       "4"
      ]
     },
     "execution_count": 5,
     "metadata": {},
     "output_type": "execute_result"
    }
   ],
   "source": [
    "poly[0].size//2"
   ]
  },
  {
   "cell_type": "code",
   "execution_count": null,
   "metadata": {},
   "outputs": [],
   "source": [
    "a[0,2]"
   ]
  },
  {
   "cell_type": "code",
   "execution_count": null,
   "metadata": {},
   "outputs": [],
   "source": [
    "poly[0][0,0]"
   ]
  },
  {
   "cell_type": "code",
   "execution_count": null,
   "metadata": {},
   "outputs": [],
   "source": []
  },
  {
   "cell_type": "markdown",
   "metadata": {},
   "source": [
    "## Gerando os parâmetros do sistema de coordenadas "
   ]
  },
  {
   "cell_type": "code",
   "execution_count": null,
   "metadata": {},
   "outputs": [],
   "source": [
    "Nx = 100\n",
    "Ny = 50\n",
    "area = [-1000.,1000.,-1000.,1000.]\n",
    "shape = (Nx,Ny)"
   ]
  },
  {
   "cell_type": "code",
   "execution_count": null,
   "metadata": {},
   "outputs": [],
   "source": [
    "x = np.linspace(area[0],area[1],num=Nx)\n",
    "y = np.linspace(area[2],area[3],num=Ny) \n",
    "yc,xc = np.meshgrid(y,x)"
   ]
  },
  {
   "cell_type": "code",
   "execution_count": null,
   "metadata": {},
   "outputs": [],
   "source": [
    "voo = -200.\n",
    "zc = voo*np.ones_like(xc)"
   ]
  },
  {
   "cell_type": "code",
   "execution_count": null,
   "metadata": {},
   "outputs": [],
   "source": [
    "coordenadas = np.array([yc.ravel(),xc.ravel(),zc.ravel()])"
   ]
  },
  {
   "cell_type": "markdown",
   "metadata": {},
   "source": [
    "## Gerando os parâmetros do prisma"
   ]
  },
  {
   "cell_type": "code",
   "execution_count": null,
   "metadata": {},
   "outputs": [],
   "source": [
    "intensidades = np.array([50.])"
   ]
  },
  {
   "cell_type": "code",
   "execution_count": null,
   "metadata": {},
   "outputs": [],
   "source": [
    "direcoes = np.array([[-50.,-20.]])"
   ]
  },
  {
   "cell_type": "code",
   "execution_count": null,
   "metadata": {},
   "outputs": [],
   "source": [
    "modelo = np.array([[-50,50,-450,450,50,250]])"
   ]
  },
  {
   "cell_type": "markdown",
   "metadata": {},
   "source": [
    "## Cálculo das componentes do campo de gravidade e do potencial"
   ]
  },
  {
   "cell_type": "code",
   "execution_count": null,
   "metadata": {},
   "outputs": [],
   "source": [
    "bz = prism_mag.magnetic(coordenadas,modelo,intensidades,direcoes,field=\"b_z\")"
   ]
  },
  {
   "cell_type": "code",
   "execution_count": null,
   "metadata": {},
   "outputs": [],
   "source": [
    "bx = prism_mag.magnetic(coordenadas,modelo,intensidades,direcoes,field=\"b_x\")"
   ]
  },
  {
   "cell_type": "code",
   "execution_count": null,
   "metadata": {},
   "outputs": [],
   "source": [
    "by = prism_mag.magnetic(coordenadas,modelo,intensidades,direcoes,field=\"b_y\")"
   ]
  },
  {
   "cell_type": "markdown",
   "metadata": {},
   "source": [
    "### Anomalia de campo total aproximada"
   ]
  },
  {
   "cell_type": "code",
   "execution_count": null,
   "metadata": {},
   "outputs": [],
   "source": [
    "I0,D0 = -20.,-20.\n",
    "j0x = np.cos(np.deg2rad(I0))*np.cos(np.deg2rad(D0))\n",
    "j0y = np.cos(np.deg2rad(I0))*np.sin(np.deg2rad(D0))\n",
    "j0z = np.sin(np.deg2rad(I0))\n",
    "tfa = j0x*bx + j0y*by + j0z*bz"
   ]
  },
  {
   "cell_type": "markdown",
   "metadata": {},
   "source": [
    "## Visualização dos dados calculados "
   ]
  },
  {
   "cell_type": "code",
   "execution_count": null,
   "metadata": {},
   "outputs": [],
   "source": [
    "title_font = 18\n",
    "bottom_font = 15\n",
    "plt.close('all')\n",
    "plt.figure(figsize=(10,10), tight_layout=True)\n",
    "\n",
    "plt.subplot(2,2,1)\n",
    "plt.xlabel('y (m)', fontsize = title_font)\n",
    "plt.ylabel('x (m)', fontsize = title_font)\n",
    "plt.title('Bx (nT)', fontsize=title_font)\n",
    "plt.pcolor(yc,xc,bx.reshape(shape),shading='auto',cmap='jet')\n",
    "plt.tick_params(axis='both', which='major', labelsize=bottom_font)\n",
    "cb = plt.colorbar(pad=0.01, aspect=40, shrink=1.0)\n",
    "cb.ax.tick_params(labelsize=bottom_font)\n",
    "\n",
    "plt.subplot(2,2,2)\n",
    "plt.xlabel('y (m)', fontsize = title_font)\n",
    "plt.ylabel('x (m)', fontsize = title_font)\n",
    "plt.title('By (nT)', fontsize=title_font)\n",
    "plt.pcolor(yc,xc,by.reshape(shape),shading='auto',cmap='jet')\n",
    "plt.tick_params(axis='both', which='major', labelsize=bottom_font)\n",
    "cb = plt.colorbar(pad=0.01, aspect=40, shrink=1.0)\n",
    "cb.ax.tick_params(labelsize=bottom_font)\n",
    "\n",
    "plt.subplot(2,2,3)\n",
    "plt.xlabel('y (m)', fontsize = title_font)\n",
    "plt.ylabel('x (m)', fontsize = title_font)\n",
    "plt.title('Bz (nT)', fontsize=title_font)\n",
    "plt.pcolor(yc,xc,bz.reshape(shape),shading='auto',cmap='jet')\n",
    "plt.tick_params(axis='both', which='major', labelsize=bottom_font)\n",
    "cb = plt.colorbar(pad=0.01, aspect=40, shrink=1.0)\n",
    "cb.ax.tick_params(labelsize=bottom_font)\n",
    "\n",
    "plt.subplot(2,2,4)\n",
    "plt.xlabel('y (m)', fontsize = title_font)\n",
    "plt.ylabel('x (m)', fontsize = title_font)\n",
    "plt.title('TFA (nT)', fontsize=title_font)\n",
    "plt.pcolor(yc,xc,tfa.reshape(shape),shading='auto',cmap='jet')\n",
    "plt.tick_params(axis='both', which='major', labelsize=bottom_font)\n",
    "cb = plt.colorbar(pad=0.01, aspect=40, shrink=1.0)\n",
    "cb.ax.tick_params(labelsize=bottom_font)\n",
    "\n",
    "file_name = 'images/forward_modeling_prism_mag_tot_HS'\n",
    "plt.savefig(file_name+'.png',dpi=300)\n",
    "\n",
    "plt.show()"
   ]
  },
  {
   "cell_type": "code",
   "execution_count": null,
   "metadata": {},
   "outputs": [],
   "source": []
  }
 ],
 "metadata": {
  "kernelspec": {
   "display_name": "Python 3 (ipykernel)",
   "language": "python",
   "name": "python3"
  },
  "language_info": {
   "codemirror_mode": {
    "name": "ipython",
    "version": 3
   },
   "file_extension": ".py",
   "mimetype": "text/x-python",
   "name": "python",
   "nbconvert_exporter": "python",
   "pygments_lexer": "ipython3",
   "version": "3.11.5"
  }
 },
 "nbformat": 4,
 "nbformat_minor": 4
}
