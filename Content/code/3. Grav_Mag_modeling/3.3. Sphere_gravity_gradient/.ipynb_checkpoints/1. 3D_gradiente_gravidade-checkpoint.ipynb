{
 "cells": [
  {
   "cell_type": "markdown",
   "metadata": {},
   "source": [
    "# Gradiente de gravidade de uma esfera"
   ]
  },
  {
   "cell_type": "markdown",
   "metadata": {},
   "source": [
    "## Importando as bibliotecas"
   ]
  },
  {
   "cell_type": "code",
   "execution_count": 1,
   "metadata": {},
   "outputs": [],
   "source": [
    "import numpy as np\n",
    "import matplotlib.pyplot as plt"
   ]
  },
  {
   "cell_type": "code",
   "execution_count": 2,
   "metadata": {},
   "outputs": [],
   "source": [
    "import sphere_grav"
   ]
  },
  {
   "cell_type": "markdown",
   "metadata": {},
   "source": [
    "## Gerando os parâmetros do sistema de coordenadas "
   ]
  },
  {
   "cell_type": "code",
   "execution_count": 3,
   "metadata": {},
   "outputs": [],
   "source": [
    "Nx = 100\n",
    "Ny = 50\n",
    "area = [-1000.,1000.,-1000.,1000.]\n",
    "shape = (Nx,Ny)"
   ]
  },
  {
   "cell_type": "code",
   "execution_count": 4,
   "metadata": {},
   "outputs": [],
   "source": [
    "x = np.linspace(area[0],area[1],num=Nx)\n",
    "y = np.linspace(area[2],area[3],num=Ny) \n",
    "yc,xc = np.meshgrid(y,x)"
   ]
  },
  {
   "cell_type": "code",
   "execution_count": 5,
   "metadata": {},
   "outputs": [],
   "source": [
    "voo = -100.\n",
    "zc = voo*np.ones_like(xc)"
   ]
  },
  {
   "cell_type": "code",
   "execution_count": 6,
   "metadata": {},
   "outputs": [],
   "source": [
    "coordenadas = np.array([yc.ravel(),xc.ravel(),zc.ravel()])"
   ]
  },
  {
   "cell_type": "markdown",
   "metadata": {},
   "source": [
    "## Gerando os parâmetros do prisma"
   ]
  },
  {
   "cell_type": "code",
   "execution_count": null,
   "metadata": {},
   "outputs": [],
   "source": [
    "rho = np.array([3000])\n",
    "modelo = np.array([[-50,50,-150,150,100,250]])"
   ]
  },
  {
   "cell_type": "markdown",
   "metadata": {},
   "source": [
    "## Cálculo das componentes do campo de gravidade e do potencial"
   ]
  },
  {
   "cell_type": "code",
   "execution_count": null,
   "metadata": {},
   "outputs": [],
   "source": [
    "gxx = sphere.gravity_gradient(coordenadas,modelo,rho,field=\"g_xx\")"
   ]
  },
  {
   "cell_type": "code",
   "execution_count": null,
   "metadata": {},
   "outputs": [],
   "source": [
    "gxy = sphere.gravity_gradient(coordenadas,modelo,rho,field=\"g_xy\")"
   ]
  },
  {
   "cell_type": "code",
   "execution_count": null,
   "metadata": {},
   "outputs": [],
   "source": [
    "gxz = sphere.gravity_gradient(coordenadas,modelo,rho,field=\"g_xz\")"
   ]
  },
  {
   "cell_type": "code",
   "execution_count": null,
   "metadata": {},
   "outputs": [],
   "source": [
    "gyy = sphere.gravity_gradient(coordenadas,modelo,rho,field=\"g_yy\")"
   ]
  },
  {
   "cell_type": "code",
   "execution_count": null,
   "metadata": {},
   "outputs": [],
   "source": [
    "gyz = sphere.gravity_gradient(coordenadas,modelo,rho,field=\"g_yz\")"
   ]
  },
  {
   "cell_type": "code",
   "execution_count": null,
   "metadata": {},
   "outputs": [],
   "source": [
    "gzz = prism.gravity_gradient(coordenadas,modelo,rho,field=\"g_zz\")"
   ]
  },
  {
   "cell_type": "code",
   "execution_count": null,
   "metadata": {},
   "outputs": [],
   "source": [
    "laplacian = gxx + gyy + gzz"
   ]
  },
  {
   "cell_type": "code",
   "execution_count": null,
   "metadata": {},
   "outputs": [],
   "source": [
    "laplacian"
   ]
  },
  {
   "cell_type": "markdown",
   "metadata": {},
   "source": [
    "## Visualização dos dados calculados "
   ]
  },
  {
   "cell_type": "code",
   "execution_count": null,
   "metadata": {},
   "outputs": [],
   "source": [
    "title_font = 22\n",
    "bottom_font = 15\n",
    "plt.close('all')\n",
    "plt.figure(figsize=(15,15), tight_layout=True)\n",
    "\n",
    "plt.subplot(3,3,1)\n",
    "plt.xlabel('y (m)', fontsize = title_font)\n",
    "plt.ylabel('x (m)', fontsize = title_font)\n",
    "plt.title('$g_{xx}$ (Eotvos)', fontsize=title_font)\n",
    "plt.pcolor(yc,xc,gxx.reshape(shape),shading='auto',cmap='viridis')\n",
    "plt.tick_params(axis='both', which='major', labelsize=bottom_font)\n",
    "cb = plt.colorbar(pad=0.01, aspect=40, shrink=1.0)\n",
    "cb.ax.tick_params(labelsize=bottom_font)\n",
    "\n",
    "plt.subplot(3,3,2)\n",
    "plt.xlabel('y (m)', fontsize = title_font)\n",
    "plt.ylabel('x (m)', fontsize = title_font)\n",
    "plt.title('$g_{xy}$ (Eotvos)', fontsize=title_font)\n",
    "plt.pcolor(yc,xc,gxy.reshape(shape),shading='auto',cmap='viridis')\n",
    "plt.tick_params(axis='both', which='major', labelsize=bottom_font)\n",
    "cb = plt.colorbar(pad=0.01, aspect=40, shrink=1.0)\n",
    "cb.ax.tick_params(labelsize=bottom_font)\n",
    "\n",
    "plt.subplot(3,3,3)\n",
    "plt.xlabel('y (m)', fontsize = title_font)\n",
    "plt.ylabel('x (m)', fontsize = title_font)\n",
    "plt.title('$g_{xz}$ (Eotvos)', fontsize=title_font)\n",
    "plt.pcolor(yc,xc,gxz.reshape(shape),shading='auto',cmap='viridis')\n",
    "plt.tick_params(axis='both', which='major', labelsize=bottom_font)\n",
    "cb = plt.colorbar(pad=0.01, aspect=40, shrink=1.0)\n",
    "cb.ax.tick_params(labelsize=bottom_font)\n",
    "\n",
    "plt.subplot(3,3,5)\n",
    "plt.xlabel('y (m)', fontsize = title_font)\n",
    "plt.ylabel('x (m)', fontsize = title_font)\n",
    "plt.title('$g_{yy}$ (Eotvos)', fontsize=title_font)\n",
    "plt.pcolor(yc,xc,gyy.reshape(shape),shading='auto',cmap='viridis')\n",
    "plt.tick_params(axis='both', which='major', labelsize=bottom_font)\n",
    "cb = plt.colorbar(pad=0.01, aspect=40, shrink=1.0)\n",
    "cb.ax.tick_params(labelsize=bottom_font)\n",
    "\n",
    "plt.subplot(3,3,6)\n",
    "plt.xlabel('y (m)', fontsize = title_font)\n",
    "plt.ylabel('x (m)', fontsize = title_font)\n",
    "plt.title('$g_{yz}$ (Eotvos)', fontsize=title_font)\n",
    "plt.pcolor(yc,xc,gyz.reshape(shape),shading='auto',cmap='viridis')\n",
    "plt.tick_params(axis='both', which='major', labelsize=bottom_font)\n",
    "cb = plt.colorbar(pad=0.01, aspect=40, shrink=1.0)\n",
    "cb.ax.tick_params(labelsize=bottom_font)\n",
    "\n",
    "plt.subplot(3,3,9)\n",
    "plt.xlabel('y (m)', fontsize = title_font)\n",
    "plt.ylabel('x (m)', fontsize = title_font)\n",
    "plt.title('$g_{zz}$ (Eotvos)', fontsize=title_font)\n",
    "plt.pcolor(yc,xc,gzz.reshape(shape),shading='auto',cmap='viridis')\n",
    "plt.tick_params(axis='both', which='major', labelsize=bottom_font)\n",
    "cb = plt.colorbar(pad=0.01, aspect=40, shrink=1.0)\n",
    "cb.ax.tick_params(labelsize=bottom_font)\n",
    "\n",
    "\n",
    "plt.show()"
   ]
  },
  {
   "cell_type": "code",
   "execution_count": null,
   "metadata": {},
   "outputs": [],
   "source": []
  }
 ],
 "metadata": {
  "kernelspec": {
   "display_name": "Python 3",
   "language": "python",
   "name": "python3"
  },
  "language_info": {
   "codemirror_mode": {
    "name": "ipython",
    "version": 3
   },
   "file_extension": ".py",
   "mimetype": "text/x-python",
   "name": "python",
   "nbconvert_exporter": "python",
   "pygments_lexer": "ipython3",
   "version": "3.7.6"
  }
 },
 "nbformat": 4,
 "nbformat_minor": 2
}
