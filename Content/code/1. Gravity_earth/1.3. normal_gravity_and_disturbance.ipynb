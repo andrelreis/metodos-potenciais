{
 "cells": [
  {
   "cell_type": "markdown",
   "metadata": {},
   "source": [
    "# Gravidade normal e distúrbio de gravidade para o mundo inteiro"
   ]
  },
  {
   "cell_type": "markdown",
   "metadata": {},
   "source": [
    "## Importando bibliotecas"
   ]
  },
  {
   "cell_type": "code",
   "execution_count": 1,
   "metadata": {},
   "outputs": [],
   "source": [
    "import numpy as np\n",
    "import matplotlib.pyplot as plt\n",
    "import pandas as pd\n",
    "import cartopy.crs as ccrs"
   ]
  },
  {
   "cell_type": "code",
   "execution_count": 2,
   "metadata": {},
   "outputs": [],
   "source": [
    "import normal_gravity"
   ]
  },
  {
   "cell_type": "code",
   "execution_count": 3,
   "metadata": {},
   "outputs": [],
   "source": [
    "notebook_name = '1.3. normal_gravity.ipynb'"
   ]
  },
  {
   "cell_type": "markdown",
   "metadata": {},
   "source": [
    "### Plot style"
   ]
  },
  {
   "cell_type": "code",
   "execution_count": 4,
   "metadata": {},
   "outputs": [],
   "source": [
    "plt.style.use('ggplot')"
   ]
  },
  {
   "cell_type": "markdown",
   "metadata": {},
   "source": [
    "### Fetching data"
   ]
  },
  {
   "cell_type": "code",
   "execution_count": 5,
   "metadata": {},
   "outputs": [],
   "source": [
    "fname_grav = 'data_set/gravity_05deg_EIGEN-6C4.csv'"
   ]
  },
  {
   "cell_type": "code",
   "execution_count": 6,
   "metadata": {},
   "outputs": [],
   "source": [
    "data = pd.read_csv(fname_grav)"
   ]
  },
  {
   "cell_type": "code",
   "execution_count": 7,
   "metadata": {},
   "outputs": [],
   "source": [
    "fname_geo = 'data_set/geoid_05deg_EIGEN-6C4.csv'"
   ]
  },
  {
   "cell_type": "code",
   "execution_count": 8,
   "metadata": {},
   "outputs": [],
   "source": [
    "geo = pd.read_csv(fname_geo)"
   ]
  },
  {
   "cell_type": "code",
   "execution_count": 9,
   "metadata": {},
   "outputs": [],
   "source": [
    "fname_topo = 'data_set/topography_etopo1_05deg.csv'"
   ]
  },
  {
   "cell_type": "code",
   "execution_count": 10,
   "metadata": {},
   "outputs": [],
   "source": [
    "topo = pd.read_csv(fname_topo)"
   ]
  },
  {
   "cell_type": "code",
   "execution_count": null,
   "metadata": {},
   "outputs": [],
   "source": []
  },
  {
   "cell_type": "code",
   "execution_count": null,
   "metadata": {},
   "outputs": [],
   "source": []
  },
  {
   "cell_type": "code",
   "execution_count": null,
   "metadata": {},
   "outputs": [],
   "source": []
  },
  {
   "cell_type": "code",
   "execution_count": null,
   "metadata": {},
   "outputs": [],
   "source": []
  },
  {
   "cell_type": "code",
   "execution_count": null,
   "metadata": {},
   "outputs": [],
   "source": []
  },
  {
   "cell_type": "code",
   "execution_count": null,
   "metadata": {},
   "outputs": [],
   "source": []
  },
  {
   "cell_type": "code",
   "execution_count": null,
   "metadata": {},
   "outputs": [],
   "source": [
    "ççççççççççççççççççççççççççççççççççççç"
   ]
  },
  {
   "cell_type": "markdown",
   "metadata": {},
   "source": [
    "### Calculating Normal gravity"
   ]
  },
  {
   "cell_type": "markdown",
   "metadata": {},
   "source": [
    "#### Reference ellipsoid WGS84"
   ]
  },
  {
   "cell_type": "code",
   "execution_count": null,
   "metadata": {},
   "outputs": [],
   "source": [
    "a, f, GM, omega = pkg.WGS84()"
   ]
  },
  {
   "cell_type": "markdown",
   "metadata": {},
   "source": [
    "#### With Somigliana 1929"
   ]
  },
  {
   "cell_type": "code",
   "execution_count": null,
   "metadata": {},
   "outputs": [],
   "source": [
    "data_set['gamma_S_h0'] = pkg.somigliana(a, f, GM, omega, data_set['LAT'])"
   ]
  },
  {
   "cell_type": "markdown",
   "metadata": {},
   "source": [
    "#### With Closed-form formula proposed by Li and Gotze (2001)"
   ]
  },
  {
   "cell_type": "code",
   "execution_count": null,
   "metadata": {},
   "outputs": [],
   "source": [
    "data_set['h'] = 0."
   ]
  },
  {
   "cell_type": "code",
   "execution_count": null,
   "metadata": {},
   "outputs": [],
   "source": [
    "data_set['gamma_LG_h0'] = pkg.closedform(a, f, GM, omega, data_set['LAT'], data_set['h'])"
   ]
  },
  {
   "cell_type": "markdown",
   "metadata": {},
   "source": [
    "## Normal Gravity (Somigliana)"
   ]
  },
  {
   "cell_type": "code",
   "execution_count": null,
   "metadata": {},
   "outputs": [],
   "source": [
    "title_font = 22\n",
    "bottom_font = 18\n",
    "plt.figure(figsize=(15,15), tight_layout=True)\n",
    "\n",
    "projection = ccrs.Mollweide()\n",
    "ax = plt.axes(projection=projection)\n",
    "ax.set_global()\n",
    "ax.coastlines()\n",
    "ax.set_title('Normal Gravity (mGal)',size=title_font)\n",
    "pg = ax.contourf(data_set['LONG'],\n",
    "                 data_set['LAT'],\n",
    "                 data_set['gamma_S_h0'],100,transform=ccrs.PlateCarree(),cmap='RdBu_r')\n",
    "cb = plt.colorbar(pg, orientation=\"vertical\", pad=0.01, aspect=50, shrink=.4)\n",
    "cb.ax.tick_params(labelsize=bottom_font)\n",
    "\n",
    "file_name = 'images/normal_gravity_somigliana'\n",
    "plt.savefig(file_name+'.png',dpi=300)\n",
    "saved_files.append(file_name+'.png')\n",
    "\n",
    "plt.show()"
   ]
  },
  {
   "cell_type": "markdown",
   "metadata": {},
   "source": [
    "## Normal Gravity (Li and Gotze [2001])"
   ]
  },
  {
   "cell_type": "code",
   "execution_count": null,
   "metadata": {},
   "outputs": [],
   "source": [
    "title_font = 22\n",
    "bottom_font = 18\n",
    "plt.figure(figsize=(15,15), tight_layout=True)\n",
    "\n",
    "projection = ccrs.Mollweide()\n",
    "ax = plt.axes(projection=projection)\n",
    "ax.set_global()\n",
    "ax.coastlines()\n",
    "ax.set_title('Normal Gravity (mGal)',size=title_font)\n",
    "pg = ax.contourf(data_set['LONG'],\n",
    "            data_set['LAT'],\n",
    "            data_set['gamma_LG_h0'],100,transform=ccrs.PlateCarree(),cmap='RdBu_r')\n",
    "cb = plt.colorbar(pg, orientation=\"vertical\", pad=0.01, aspect=50, shrink=.4)\n",
    "cb.ax.tick_params(labelsize=bottom_font)\n",
    "\n",
    "file_name = 'images/normal_gravity_Li_and_Gotze_[2001]'\n",
    "plt.savefig(file_name+'.png',dpi=300)\n",
    "saved_files.append(file_name+'.png')\n",
    "\n",
    "plt.show()"
   ]
  },
  {
   "cell_type": "markdown",
   "metadata": {},
   "source": [
    "### Calculating the Gravity Disturbance"
   ]
  },
  {
   "cell_type": "markdown",
   "metadata": {},
   "source": [
    "#### Free air with Somigliana"
   ]
  },
  {
   "cell_type": "code",
   "execution_count": null,
   "metadata": {},
   "outputs": [],
   "source": [
    "data_set['gamma_S_P'] = data_set['gamma_S_h0'] - 0.3086*(data_set['H_geo'])"
   ]
  },
  {
   "cell_type": "code",
   "execution_count": null,
   "metadata": {},
   "outputs": [],
   "source": [
    "data_set['disturbance_S'] = data_set['grav_field'] - data_set['gamma_S_P']"
   ]
  },
  {
   "cell_type": "markdown",
   "metadata": {},
   "source": [
    "#### Free air with Li and Gotze (2001)"
   ]
  },
  {
   "cell_type": "code",
   "execution_count": null,
   "metadata": {},
   "outputs": [],
   "source": [
    "data_set['gamma_LG_P'] = pkg.closedform(a, f, GM, omega, data_set['LAT'], data_set['H_geo'])"
   ]
  },
  {
   "cell_type": "code",
   "execution_count": null,
   "metadata": {},
   "outputs": [],
   "source": [
    "data_set['disturbance_LG'] = data_set['grav_field'] - data_set['gamma_LG_P']"
   ]
  },
  {
   "cell_type": "markdown",
   "metadata": {},
   "source": [
    "## Visualization gravity disturbance (Somigliana)"
   ]
  },
  {
   "cell_type": "code",
   "execution_count": null,
   "metadata": {},
   "outputs": [],
   "source": [
    "title_font = 22\n",
    "bottom_font = 18\n",
    "plt.figure(figsize=(15,15), tight_layout=True)\n",
    "\n",
    "ranges = np.abs([data_set['disturbance_S'].min(), data_set['disturbance_S'].max()]).max()\n",
    "projection = ccrs.Mollweide()\n",
    "ax = plt.axes(projection=projection)\n",
    "ax.set_global()\n",
    "ax.coastlines()\n",
    "ax.set_title('Gravity disturbance (mGal)',size=title_font)\n",
    "pg = ax.contourf(data_set['LONG'],\n",
    "                 data_set['LAT'],\n",
    "                 data_set['disturbance_S'],100,transform=ccrs.PlateCarree(),cmap='RdBu_r',vmax=ranges,vmin=-ranges)\n",
    "cb = plt.colorbar(pg, orientation=\"vertical\", pad=0.01, aspect=50, shrink=.4)\n",
    "cb.ax.tick_params(labelsize=bottom_font)\n",
    "\n",
    "file_name = 'images/disturbance_free_air_classical_formula'\n",
    "plt.savefig(file_name+'.png',dpi=300)\n",
    "saved_files.append(file_name+'.png')\n",
    "\n",
    "plt.show()"
   ]
  },
  {
   "cell_type": "markdown",
   "metadata": {},
   "source": [
    "## Visualization gravity disturbance (Li and Gotze [2001])"
   ]
  },
  {
   "cell_type": "code",
   "execution_count": null,
   "metadata": {},
   "outputs": [],
   "source": [
    "title_font = 22\n",
    "bottom_font = 18\n",
    "plt.figure(figsize=(15,15), tight_layout=True)\n",
    "\n",
    "ranges = np.abs([data_set['disturbance_LG'].min(), data_set['disturbance_LG'].max()]).max()\n",
    "projection = ccrs.Mollweide()\n",
    "ax = plt.axes(projection=projection)\n",
    "ax.set_global()\n",
    "ax.coastlines()\n",
    "ax.set_title('Gravity disturbance (mGal)',size=title_font)\n",
    "pg = ax.contourf(data_set['LONG'],\n",
    "                 data_set['LAT'],\n",
    "                 data_set['disturbance_LG'],100,transform=ccrs.PlateCarree(),cmap='RdBu_r',vmax=ranges,vmin=-ranges)\n",
    "cb = plt.colorbar(pg, orientation=\"vertical\", pad=0.01, aspect=50, shrink=.4)\n",
    "cb.ax.tick_params(labelsize=bottom_font)\n",
    "\n",
    "file_name = 'images/disturbance_closedform_formula'\n",
    "plt.savefig(file_name+'.png',dpi=300)\n",
    "saved_files.append(file_name+'.png')\n",
    "\n",
    "plt.show()"
   ]
  },
  {
   "cell_type": "code",
   "execution_count": null,
   "metadata": {},
   "outputs": [],
   "source": []
  }
 ],
 "metadata": {
  "kernelspec": {
   "display_name": "Python 3",
   "language": "python",
   "name": "python3"
  },
  "language_info": {
   "codemirror_mode": {
    "name": "ipython",
    "version": 3
   },
   "file_extension": ".py",
   "mimetype": "text/x-python",
   "name": "python",
   "nbconvert_exporter": "python",
   "pygments_lexer": "ipython3",
   "version": "3.7.6"
  }
 },
 "nbformat": 4,
 "nbformat_minor": 2
}
