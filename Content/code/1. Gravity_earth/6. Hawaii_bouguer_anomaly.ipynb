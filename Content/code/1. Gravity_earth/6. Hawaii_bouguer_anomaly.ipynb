{
 "cells": [
  {
   "cell_type": "markdown",
   "metadata": {},
   "source": [
    "# Anomalia bouguer para o Havaí"
   ]
  },
  {
   "cell_type": "markdown",
   "metadata": {},
   "source": [
    "## Importando bibliotecas"
   ]
  },
  {
   "cell_type": "code",
   "execution_count": 1,
   "metadata": {},
   "outputs": [],
   "source": [
    "import numpy as np\n",
    "import matplotlib.pyplot as plt\n",
    "import cartopy.crs as ccrs\n",
    "import verde as vd\n",
    "import pyproj\n",
    "import boule as bl\n",
    "import harmonica as hm"
   ]
  },
  {
   "cell_type": "code",
   "execution_count": 2,
   "metadata": {},
   "outputs": [],
   "source": [
    "notebook_name = '6. Hawaii_bouguer_anomaly.ipynb'"
   ]
  },
  {
   "cell_type": "markdown",
   "metadata": {},
   "source": [
    "### Plot style"
   ]
  },
  {
   "cell_type": "code",
   "execution_count": 3,
   "metadata": {},
   "outputs": [],
   "source": [
    "plt.style.use('ggplot')"
   ]
  },
  {
   "cell_type": "markdown",
   "metadata": {},
   "source": [
    "### Carregando os dados"
   ]
  },
  {
   "cell_type": "code",
   "execution_count": 4,
   "metadata": {},
   "outputs": [],
   "source": [
    "fname = 'data_set/gravity_001deg_Hawaii_EIGEN-6C4.gdf'"
   ]
  },
  {
   "cell_type": "code",
   "execution_count": 5,
   "metadata": {},
   "outputs": [],
   "source": [
    "data = hm.load_icgem_gdf(fname)"
   ]
  },
  {
   "cell_type": "code",
   "execution_count": 6,
   "metadata": {},
   "outputs": [],
   "source": [
    "fname = 'data_set/geoid_001deg_Hawaii_EIGEN-6C4.gdf'"
   ]
  },
  {
   "cell_type": "code",
   "execution_count": 7,
   "metadata": {},
   "outputs": [],
   "source": [
    "geoide = hm.load_icgem_gdf(fname)"
   ]
  },
  {
   "cell_type": "code",
   "execution_count": 8,
   "metadata": {},
   "outputs": [],
   "source": [
    "data['geoid'] = geoide.geoid"
   ]
  },
  {
   "cell_type": "code",
   "execution_count": 9,
   "metadata": {},
   "outputs": [],
   "source": [
    "fname = 'data_set/topography_001deg_Hawaii_etopo1.gdf'"
   ]
  },
  {
   "cell_type": "code",
   "execution_count": 10,
   "metadata": {},
   "outputs": [],
   "source": [
    "topografia = hm.load_icgem_gdf(fname) "
   ]
  },
  {
   "cell_type": "code",
   "execution_count": 11,
   "metadata": {},
   "outputs": [],
   "source": [
    "data['topography'] = topografia.topography_shm"
   ]
  },
  {
   "cell_type": "code",
   "execution_count": 12,
   "metadata": {},
   "outputs": [
    {
     "data": {
      "text/html": [
       "<div><svg style=\"position: absolute; width: 0; height: 0; overflow: hidden\">\n",
       "<defs>\n",
       "<symbol id=\"icon-database\" viewBox=\"0 0 32 32\">\n",
       "<path d=\"M16 0c-8.837 0-16 2.239-16 5v4c0 2.761 7.163 5 16 5s16-2.239 16-5v-4c0-2.761-7.163-5-16-5z\"></path>\n",
       "<path d=\"M16 17c-8.837 0-16-2.239-16-5v6c0 2.761 7.163 5 16 5s16-2.239 16-5v-6c0 2.761-7.163 5-16 5z\"></path>\n",
       "<path d=\"M16 26c-8.837 0-16-2.239-16-5v6c0 2.761 7.163 5 16 5s16-2.239 16-5v-6c0 2.761-7.163 5-16 5z\"></path>\n",
       "</symbol>\n",
       "<symbol id=\"icon-file-text2\" viewBox=\"0 0 32 32\">\n",
       "<path d=\"M28.681 7.159c-0.694-0.947-1.662-2.053-2.724-3.116s-2.169-2.030-3.116-2.724c-1.612-1.182-2.393-1.319-2.841-1.319h-15.5c-1.378 0-2.5 1.121-2.5 2.5v27c0 1.378 1.122 2.5 2.5 2.5h23c1.378 0 2.5-1.122 2.5-2.5v-19.5c0-0.448-0.137-1.23-1.319-2.841zM24.543 5.457c0.959 0.959 1.712 1.825 2.268 2.543h-4.811v-4.811c0.718 0.556 1.584 1.309 2.543 2.268zM28 29.5c0 0.271-0.229 0.5-0.5 0.5h-23c-0.271 0-0.5-0.229-0.5-0.5v-27c0-0.271 0.229-0.5 0.5-0.5 0 0 15.499-0 15.5 0v7c0 0.552 0.448 1 1 1h7v19.5z\"></path>\n",
       "<path d=\"M23 26h-14c-0.552 0-1-0.448-1-1s0.448-1 1-1h14c0.552 0 1 0.448 1 1s-0.448 1-1 1z\"></path>\n",
       "<path d=\"M23 22h-14c-0.552 0-1-0.448-1-1s0.448-1 1-1h14c0.552 0 1 0.448 1 1s-0.448 1-1 1z\"></path>\n",
       "<path d=\"M23 18h-14c-0.552 0-1-0.448-1-1s0.448-1 1-1h14c0.552 0 1 0.448 1 1s-0.448 1-1 1z\"></path>\n",
       "</symbol>\n",
       "</defs>\n",
       "</svg>\n",
       "<style>/* CSS stylesheet for displaying xarray objects in jupyterlab.\n",
       " *\n",
       " */\n",
       "\n",
       ":root {\n",
       "  --xr-font-color0: var(--jp-content-font-color0, rgba(0, 0, 0, 1));\n",
       "  --xr-font-color2: var(--jp-content-font-color2, rgba(0, 0, 0, 0.54));\n",
       "  --xr-font-color3: var(--jp-content-font-color3, rgba(0, 0, 0, 0.38));\n",
       "  --xr-border-color: var(--jp-border-color2, #e0e0e0);\n",
       "  --xr-disabled-color: var(--jp-layout-color3, #bdbdbd);\n",
       "  --xr-background-color: var(--jp-layout-color0, white);\n",
       "  --xr-background-color-row-even: var(--jp-layout-color1, white);\n",
       "  --xr-background-color-row-odd: var(--jp-layout-color2, #eeeeee);\n",
       "}\n",
       "\n",
       "html[theme=dark],\n",
       "body.vscode-dark {\n",
       "  --xr-font-color0: rgba(255, 255, 255, 1);\n",
       "  --xr-font-color2: rgba(255, 255, 255, 0.54);\n",
       "  --xr-font-color3: rgba(255, 255, 255, 0.38);\n",
       "  --xr-border-color: #1F1F1F;\n",
       "  --xr-disabled-color: #515151;\n",
       "  --xr-background-color: #111111;\n",
       "  --xr-background-color-row-even: #111111;\n",
       "  --xr-background-color-row-odd: #313131;\n",
       "}\n",
       "\n",
       ".xr-wrap {\n",
       "  display: block;\n",
       "  min-width: 300px;\n",
       "  max-width: 700px;\n",
       "}\n",
       "\n",
       ".xr-text-repr-fallback {\n",
       "  /* fallback to plain text repr when CSS is not injected (untrusted notebook) */\n",
       "  display: none;\n",
       "}\n",
       "\n",
       ".xr-header {\n",
       "  padding-top: 6px;\n",
       "  padding-bottom: 6px;\n",
       "  margin-bottom: 4px;\n",
       "  border-bottom: solid 1px var(--xr-border-color);\n",
       "}\n",
       "\n",
       ".xr-header > div,\n",
       ".xr-header > ul {\n",
       "  display: inline;\n",
       "  margin-top: 0;\n",
       "  margin-bottom: 0;\n",
       "}\n",
       "\n",
       ".xr-obj-type,\n",
       ".xr-array-name {\n",
       "  margin-left: 2px;\n",
       "  margin-right: 10px;\n",
       "}\n",
       "\n",
       ".xr-obj-type {\n",
       "  color: var(--xr-font-color2);\n",
       "}\n",
       "\n",
       ".xr-sections {\n",
       "  padding-left: 0 !important;\n",
       "  display: grid;\n",
       "  grid-template-columns: 150px auto auto 1fr 20px 20px;\n",
       "}\n",
       "\n",
       ".xr-section-item {\n",
       "  display: contents;\n",
       "}\n",
       "\n",
       ".xr-section-item input {\n",
       "  display: none;\n",
       "}\n",
       "\n",
       ".xr-section-item input + label {\n",
       "  color: var(--xr-disabled-color);\n",
       "}\n",
       "\n",
       ".xr-section-item input:enabled + label {\n",
       "  cursor: pointer;\n",
       "  color: var(--xr-font-color2);\n",
       "}\n",
       "\n",
       ".xr-section-item input:enabled + label:hover {\n",
       "  color: var(--xr-font-color0);\n",
       "}\n",
       "\n",
       ".xr-section-summary {\n",
       "  grid-column: 1;\n",
       "  color: var(--xr-font-color2);\n",
       "  font-weight: 500;\n",
       "}\n",
       "\n",
       ".xr-section-summary > span {\n",
       "  display: inline-block;\n",
       "  padding-left: 0.5em;\n",
       "}\n",
       "\n",
       ".xr-section-summary-in:disabled + label {\n",
       "  color: var(--xr-font-color2);\n",
       "}\n",
       "\n",
       ".xr-section-summary-in + label:before {\n",
       "  display: inline-block;\n",
       "  content: '►';\n",
       "  font-size: 11px;\n",
       "  width: 15px;\n",
       "  text-align: center;\n",
       "}\n",
       "\n",
       ".xr-section-summary-in:disabled + label:before {\n",
       "  color: var(--xr-disabled-color);\n",
       "}\n",
       "\n",
       ".xr-section-summary-in:checked + label:before {\n",
       "  content: '▼';\n",
       "}\n",
       "\n",
       ".xr-section-summary-in:checked + label > span {\n",
       "  display: none;\n",
       "}\n",
       "\n",
       ".xr-section-summary,\n",
       ".xr-section-inline-details {\n",
       "  padding-top: 4px;\n",
       "  padding-bottom: 4px;\n",
       "}\n",
       "\n",
       ".xr-section-inline-details {\n",
       "  grid-column: 2 / -1;\n",
       "}\n",
       "\n",
       ".xr-section-details {\n",
       "  display: none;\n",
       "  grid-column: 1 / -1;\n",
       "  margin-bottom: 5px;\n",
       "}\n",
       "\n",
       ".xr-section-summary-in:checked ~ .xr-section-details {\n",
       "  display: contents;\n",
       "}\n",
       "\n",
       ".xr-array-wrap {\n",
       "  grid-column: 1 / -1;\n",
       "  display: grid;\n",
       "  grid-template-columns: 20px auto;\n",
       "}\n",
       "\n",
       ".xr-array-wrap > label {\n",
       "  grid-column: 1;\n",
       "  vertical-align: top;\n",
       "}\n",
       "\n",
       ".xr-preview {\n",
       "  color: var(--xr-font-color3);\n",
       "}\n",
       "\n",
       ".xr-array-preview,\n",
       ".xr-array-data {\n",
       "  padding: 0 5px !important;\n",
       "  grid-column: 2;\n",
       "}\n",
       "\n",
       ".xr-array-data,\n",
       ".xr-array-in:checked ~ .xr-array-preview {\n",
       "  display: none;\n",
       "}\n",
       "\n",
       ".xr-array-in:checked ~ .xr-array-data,\n",
       ".xr-array-preview {\n",
       "  display: inline-block;\n",
       "}\n",
       "\n",
       ".xr-dim-list {\n",
       "  display: inline-block !important;\n",
       "  list-style: none;\n",
       "  padding: 0 !important;\n",
       "  margin: 0;\n",
       "}\n",
       "\n",
       ".xr-dim-list li {\n",
       "  display: inline-block;\n",
       "  padding: 0;\n",
       "  margin: 0;\n",
       "}\n",
       "\n",
       ".xr-dim-list:before {\n",
       "  content: '(';\n",
       "}\n",
       "\n",
       ".xr-dim-list:after {\n",
       "  content: ')';\n",
       "}\n",
       "\n",
       ".xr-dim-list li:not(:last-child):after {\n",
       "  content: ',';\n",
       "  padding-right: 5px;\n",
       "}\n",
       "\n",
       ".xr-has-index {\n",
       "  font-weight: bold;\n",
       "}\n",
       "\n",
       ".xr-var-list,\n",
       ".xr-var-item {\n",
       "  display: contents;\n",
       "}\n",
       "\n",
       ".xr-var-item > div,\n",
       ".xr-var-item label,\n",
       ".xr-var-item > .xr-var-name span {\n",
       "  background-color: var(--xr-background-color-row-even);\n",
       "  margin-bottom: 0;\n",
       "}\n",
       "\n",
       ".xr-var-item > .xr-var-name:hover span {\n",
       "  padding-right: 5px;\n",
       "}\n",
       "\n",
       ".xr-var-list > li:nth-child(odd) > div,\n",
       ".xr-var-list > li:nth-child(odd) > label,\n",
       ".xr-var-list > li:nth-child(odd) > .xr-var-name span {\n",
       "  background-color: var(--xr-background-color-row-odd);\n",
       "}\n",
       "\n",
       ".xr-var-name {\n",
       "  grid-column: 1;\n",
       "}\n",
       "\n",
       ".xr-var-dims {\n",
       "  grid-column: 2;\n",
       "}\n",
       "\n",
       ".xr-var-dtype {\n",
       "  grid-column: 3;\n",
       "  text-align: right;\n",
       "  color: var(--xr-font-color2);\n",
       "}\n",
       "\n",
       ".xr-var-preview {\n",
       "  grid-column: 4;\n",
       "}\n",
       "\n",
       ".xr-var-name,\n",
       ".xr-var-dims,\n",
       ".xr-var-dtype,\n",
       ".xr-preview,\n",
       ".xr-attrs dt {\n",
       "  white-space: nowrap;\n",
       "  overflow: hidden;\n",
       "  text-overflow: ellipsis;\n",
       "  padding-right: 10px;\n",
       "}\n",
       "\n",
       ".xr-var-name:hover,\n",
       ".xr-var-dims:hover,\n",
       ".xr-var-dtype:hover,\n",
       ".xr-attrs dt:hover {\n",
       "  overflow: visible;\n",
       "  width: auto;\n",
       "  z-index: 1;\n",
       "}\n",
       "\n",
       ".xr-var-attrs,\n",
       ".xr-var-data {\n",
       "  display: none;\n",
       "  background-color: var(--xr-background-color) !important;\n",
       "  padding-bottom: 5px !important;\n",
       "}\n",
       "\n",
       ".xr-var-attrs-in:checked ~ .xr-var-attrs,\n",
       ".xr-var-data-in:checked ~ .xr-var-data {\n",
       "  display: block;\n",
       "}\n",
       "\n",
       ".xr-var-data > table {\n",
       "  float: right;\n",
       "}\n",
       "\n",
       ".xr-var-name span,\n",
       ".xr-var-data,\n",
       ".xr-attrs {\n",
       "  padding-left: 25px !important;\n",
       "}\n",
       "\n",
       ".xr-attrs,\n",
       ".xr-var-attrs,\n",
       ".xr-var-data {\n",
       "  grid-column: 1 / -1;\n",
       "}\n",
       "\n",
       "dl.xr-attrs {\n",
       "  padding: 0;\n",
       "  margin: 0;\n",
       "  display: grid;\n",
       "  grid-template-columns: 125px auto;\n",
       "}\n",
       "\n",
       ".xr-attrs dt,\n",
       ".xr-attrs dd {\n",
       "  padding: 0;\n",
       "  margin: 0;\n",
       "  float: left;\n",
       "  padding-right: 10px;\n",
       "  width: auto;\n",
       "}\n",
       "\n",
       ".xr-attrs dt {\n",
       "  font-weight: normal;\n",
       "  grid-column: 1;\n",
       "}\n",
       "\n",
       ".xr-attrs dt:hover span {\n",
       "  display: inline-block;\n",
       "  background: var(--xr-background-color);\n",
       "  padding-right: 10px;\n",
       "}\n",
       "\n",
       ".xr-attrs dd {\n",
       "  grid-column: 2;\n",
       "  white-space: pre-wrap;\n",
       "  word-break: break-all;\n",
       "}\n",
       "\n",
       ".xr-icon-database,\n",
       ".xr-icon-file-text2 {\n",
       "  display: inline-block;\n",
       "  vertical-align: middle;\n",
       "  width: 1em;\n",
       "  height: 1.5em !important;\n",
       "  stroke-width: 0;\n",
       "  stroke: currentColor;\n",
       "  fill: currentColor;\n",
       "}\n",
       "</style><pre class='xr-text-repr-fallback'>&lt;xarray.Dataset&gt;\n",
       "Dimensions:        (latitude: 101, longitude: 161)\n",
       "Coordinates:\n",
       "  * longitude      (longitude) float64 199.0 199.1 199.1 ... 206.9 206.9 207.0\n",
       "  * latitude       (latitude) float64 18.0 18.05 18.1 18.15 ... 22.9 22.95 23.0\n",
       "Data variables:\n",
       "    h_over_geoid   (latitude, longitude) float64 0.0 0.0 0.0 0.0 ... 0.0 0.0 0.0\n",
       "    gravity_earth  (latitude, longitude) float64 9.785e+05 ... 9.788e+05\n",
       "    geoid          (latitude, longitude) float64 7.057 7.102 ... -2.541 -2.713\n",
       "    topography     (latitude, longitude) float64 -5.501e+03 ... -5.085e+03\n",
       "Attributes: (12/32)\n",
       "    generating_institute:  gfz-potsdam\n",
       "    generating_date:       2021/09/08\n",
       "    product_type:          gravity_field\n",
       "    body:                  earth\n",
       "    modelname:             EIGEN-6C4\n",
       "    max_used_degree:       2190\n",
       "    ...                    ...\n",
       "    maxvalue:              9.7908733E+05 mgal\n",
       "    minvalue:              9.7800946E+05 mgal\n",
       "    signal_wrms:           1.1488912E+02 mgal\n",
       "    grid_format:           long_lat_height_value\n",
       "    attributes:            longitude latitude h_over_geoid gravity_earth\n",
       "    attributes_units:      deg. deg. meter mgal</pre><div class='xr-wrap' hidden><div class='xr-header'><div class='xr-obj-type'>xarray.Dataset</div></div><ul class='xr-sections'><li class='xr-section-item'><input id='section-1209fc8f-578e-4d3d-a0ab-e27e1d514d64' class='xr-section-summary-in' type='checkbox' disabled ><label for='section-1209fc8f-578e-4d3d-a0ab-e27e1d514d64' class='xr-section-summary'  title='Expand/collapse section'>Dimensions:</label><div class='xr-section-inline-details'><ul class='xr-dim-list'><li><span class='xr-has-index'>latitude</span>: 101</li><li><span class='xr-has-index'>longitude</span>: 161</li></ul></div><div class='xr-section-details'></div></li><li class='xr-section-item'><input id='section-bebd0818-d0ae-4d4d-b7f5-b1cfae105e36' class='xr-section-summary-in' type='checkbox'  checked><label for='section-bebd0818-d0ae-4d4d-b7f5-b1cfae105e36' class='xr-section-summary' >Coordinates: <span>(2)</span></label><div class='xr-section-inline-details'></div><div class='xr-section-details'><ul class='xr-var-list'><li class='xr-var-item'><div class='xr-var-name'><span class='xr-has-index'>longitude</span></div><div class='xr-var-dims'>(longitude)</div><div class='xr-var-dtype'>float64</div><div class='xr-var-preview xr-preview'>199.0 199.1 199.1 ... 206.9 207.0</div><input id='attrs-3f3e2891-966f-4976-845c-47222af1134e' class='xr-var-attrs-in' type='checkbox' disabled><label for='attrs-3f3e2891-966f-4976-845c-47222af1134e' title='Show/Hide attributes'><svg class='icon xr-icon-file-text2'><use xlink:href='#icon-file-text2'></use></svg></label><input id='data-4563574a-4380-4af5-9a5d-5d8d7dc9e703' class='xr-var-data-in' type='checkbox'><label for='data-4563574a-4380-4af5-9a5d-5d8d7dc9e703' title='Show/Hide data repr'><svg class='icon xr-icon-database'><use xlink:href='#icon-database'></use></svg></label><div class='xr-var-attrs'><dl class='xr-attrs'></dl></div><div class='xr-var-data'><pre>array([199.  , 199.05, 199.1 , 199.15, 199.2 , 199.25, 199.3 , 199.35, 199.4 ,\n",
       "       199.45, 199.5 , 199.55, 199.6 , 199.65, 199.7 , 199.75, 199.8 , 199.85,\n",
       "       199.9 , 199.95, 200.  , 200.05, 200.1 , 200.15, 200.2 , 200.25, 200.3 ,\n",
       "       200.35, 200.4 , 200.45, 200.5 , 200.55, 200.6 , 200.65, 200.7 , 200.75,\n",
       "       200.8 , 200.85, 200.9 , 200.95, 201.  , 201.05, 201.1 , 201.15, 201.2 ,\n",
       "       201.25, 201.3 , 201.35, 201.4 , 201.45, 201.5 , 201.55, 201.6 , 201.65,\n",
       "       201.7 , 201.75, 201.8 , 201.85, 201.9 , 201.95, 202.  , 202.05, 202.1 ,\n",
       "       202.15, 202.2 , 202.25, 202.3 , 202.35, 202.4 , 202.45, 202.5 , 202.55,\n",
       "       202.6 , 202.65, 202.7 , 202.75, 202.8 , 202.85, 202.9 , 202.95, 203.  ,\n",
       "       203.05, 203.1 , 203.15, 203.2 , 203.25, 203.3 , 203.35, 203.4 , 203.45,\n",
       "       203.5 , 203.55, 203.6 , 203.65, 203.7 , 203.75, 203.8 , 203.85, 203.9 ,\n",
       "       203.95, 204.  , 204.05, 204.1 , 204.15, 204.2 , 204.25, 204.3 , 204.35,\n",
       "       204.4 , 204.45, 204.5 , 204.55, 204.6 , 204.65, 204.7 , 204.75, 204.8 ,\n",
       "       204.85, 204.9 , 204.95, 205.  , 205.05, 205.1 , 205.15, 205.2 , 205.25,\n",
       "       205.3 , 205.35, 205.4 , 205.45, 205.5 , 205.55, 205.6 , 205.65, 205.7 ,\n",
       "       205.75, 205.8 , 205.85, 205.9 , 205.95, 206.  , 206.05, 206.1 , 206.15,\n",
       "       206.2 , 206.25, 206.3 , 206.35, 206.4 , 206.45, 206.5 , 206.55, 206.6 ,\n",
       "       206.65, 206.7 , 206.75, 206.8 , 206.85, 206.9 , 206.95, 207.  ])</pre></div></li><li class='xr-var-item'><div class='xr-var-name'><span class='xr-has-index'>latitude</span></div><div class='xr-var-dims'>(latitude)</div><div class='xr-var-dtype'>float64</div><div class='xr-var-preview xr-preview'>18.0 18.05 18.1 ... 22.9 22.95 23.0</div><input id='attrs-ce1693ef-bb2c-4db3-b761-8b1dedd4ada0' class='xr-var-attrs-in' type='checkbox' disabled><label for='attrs-ce1693ef-bb2c-4db3-b761-8b1dedd4ada0' title='Show/Hide attributes'><svg class='icon xr-icon-file-text2'><use xlink:href='#icon-file-text2'></use></svg></label><input id='data-5f39901f-7707-4a0a-a873-8af438a197b8' class='xr-var-data-in' type='checkbox'><label for='data-5f39901f-7707-4a0a-a873-8af438a197b8' title='Show/Hide data repr'><svg class='icon xr-icon-database'><use xlink:href='#icon-database'></use></svg></label><div class='xr-var-attrs'><dl class='xr-attrs'></dl></div><div class='xr-var-data'><pre>array([18.  , 18.05, 18.1 , 18.15, 18.2 , 18.25, 18.3 , 18.35, 18.4 , 18.45,\n",
       "       18.5 , 18.55, 18.6 , 18.65, 18.7 , 18.75, 18.8 , 18.85, 18.9 , 18.95,\n",
       "       19.  , 19.05, 19.1 , 19.15, 19.2 , 19.25, 19.3 , 19.35, 19.4 , 19.45,\n",
       "       19.5 , 19.55, 19.6 , 19.65, 19.7 , 19.75, 19.8 , 19.85, 19.9 , 19.95,\n",
       "       20.  , 20.05, 20.1 , 20.15, 20.2 , 20.25, 20.3 , 20.35, 20.4 , 20.45,\n",
       "       20.5 , 20.55, 20.6 , 20.65, 20.7 , 20.75, 20.8 , 20.85, 20.9 , 20.95,\n",
       "       21.  , 21.05, 21.1 , 21.15, 21.2 , 21.25, 21.3 , 21.35, 21.4 , 21.45,\n",
       "       21.5 , 21.55, 21.6 , 21.65, 21.7 , 21.75, 21.8 , 21.85, 21.9 , 21.95,\n",
       "       22.  , 22.05, 22.1 , 22.15, 22.2 , 22.25, 22.3 , 22.35, 22.4 , 22.45,\n",
       "       22.5 , 22.55, 22.6 , 22.65, 22.7 , 22.75, 22.8 , 22.85, 22.9 , 22.95,\n",
       "       23.  ])</pre></div></li></ul></div></li><li class='xr-section-item'><input id='section-977298f3-c461-45ab-b99f-a36aaf97da9c' class='xr-section-summary-in' type='checkbox'  checked><label for='section-977298f3-c461-45ab-b99f-a36aaf97da9c' class='xr-section-summary' >Data variables: <span>(4)</span></label><div class='xr-section-inline-details'></div><div class='xr-section-details'><ul class='xr-var-list'><li class='xr-var-item'><div class='xr-var-name'><span>h_over_geoid</span></div><div class='xr-var-dims'>(latitude, longitude)</div><div class='xr-var-dtype'>float64</div><div class='xr-var-preview xr-preview'>0.0 0.0 0.0 0.0 ... 0.0 0.0 0.0 0.0</div><input id='attrs-1ae28cbc-80c7-4460-9513-b094984b793f' class='xr-var-attrs-in' type='checkbox' disabled><label for='attrs-1ae28cbc-80c7-4460-9513-b094984b793f' title='Show/Hide attributes'><svg class='icon xr-icon-file-text2'><use xlink:href='#icon-file-text2'></use></svg></label><input id='data-8182ba8a-a92f-41d1-a02d-bde91a60e363' class='xr-var-data-in' type='checkbox'><label for='data-8182ba8a-a92f-41d1-a02d-bde91a60e363' title='Show/Hide data repr'><svg class='icon xr-icon-database'><use xlink:href='#icon-database'></use></svg></label><div class='xr-var-attrs'><dl class='xr-attrs'></dl></div><div class='xr-var-data'><pre>array([[0., 0., 0., ..., 0., 0., 0.],\n",
       "       [0., 0., 0., ..., 0., 0., 0.],\n",
       "       [0., 0., 0., ..., 0., 0., 0.],\n",
       "       ...,\n",
       "       [0., 0., 0., ..., 0., 0., 0.],\n",
       "       [0., 0., 0., ..., 0., 0., 0.],\n",
       "       [0., 0., 0., ..., 0., 0., 0.]])</pre></div></li><li class='xr-var-item'><div class='xr-var-name'><span>gravity_earth</span></div><div class='xr-var-dims'>(latitude, longitude)</div><div class='xr-var-dtype'>float64</div><div class='xr-var-preview xr-preview'>9.785e+05 9.785e+05 ... 9.788e+05</div><input id='attrs-9c2d717b-0714-496f-b58f-ff49c9a85178' class='xr-var-attrs-in' type='checkbox' disabled><label for='attrs-9c2d717b-0714-496f-b58f-ff49c9a85178' title='Show/Hide attributes'><svg class='icon xr-icon-file-text2'><use xlink:href='#icon-file-text2'></use></svg></label><input id='data-540d7ad2-029a-4fee-9ca6-1cb83c169d87' class='xr-var-data-in' type='checkbox'><label for='data-540d7ad2-029a-4fee-9ca6-1cb83c169d87' title='Show/Hide data repr'><svg class='icon xr-icon-database'><use xlink:href='#icon-database'></use></svg></label><div class='xr-var-attrs'><dl class='xr-attrs'></dl></div><div class='xr-var-data'><pre>array([[978524.78389847, 978527.4713306 , 978528.67595498, ...,\n",
       "        978529.16021324, 978526.09493429, 978521.96693442],\n",
       "       [978528.52102866, 978529.75608703, 978530.76682382, ...,\n",
       "        978531.14440822, 978526.94637019, 978522.20408468],\n",
       "       [978532.96954098, 978533.45014142, 978534.77759618, ...,\n",
       "        978533.07327547, 978530.04535108, 978526.19838291],\n",
       "       ...,\n",
       "       [978872.82445151, 978866.97649535, 978860.35592144, ...,\n",
       "        978828.63813867, 978828.65981871, 978827.65601621],\n",
       "       [978843.52611537, 978840.70859466, 978838.05521108, ...,\n",
       "        978832.5650634 , 978832.33070875, 978829.98055139],\n",
       "       [978826.52186021, 978823.97065926, 978822.2199115 , ...,\n",
       "        978837.58110272, 978835.29771796, 978831.14155915]])</pre></div></li><li class='xr-var-item'><div class='xr-var-name'><span>geoid</span></div><div class='xr-var-dims'>(latitude, longitude)</div><div class='xr-var-dtype'>float64</div><div class='xr-var-preview xr-preview'>7.057 7.102 7.139 ... -2.541 -2.713</div><input id='attrs-c08f6e7e-2132-43fd-9d71-71238e1fc35a' class='xr-var-attrs-in' type='checkbox' disabled><label for='attrs-c08f6e7e-2132-43fd-9d71-71238e1fc35a' title='Show/Hide attributes'><svg class='icon xr-icon-file-text2'><use xlink:href='#icon-file-text2'></use></svg></label><input id='data-410bfa92-6dd7-4d47-b2b8-94d56875b523' class='xr-var-data-in' type='checkbox'><label for='data-410bfa92-6dd7-4d47-b2b8-94d56875b523' title='Show/Hide data repr'><svg class='icon xr-icon-database'><use xlink:href='#icon-database'></use></svg></label><div class='xr-var-attrs'><dl class='xr-attrs'></dl></div><div class='xr-var-data'><pre>array([[ 7.05733092,  7.10185344,  7.13873191, ..., -1.05538055,\n",
       "        -1.14636259, -1.23844656],\n",
       "       [ 7.10523289,  7.14641205,  7.18410154, ..., -1.10165807,\n",
       "        -1.19500772, -1.28767959],\n",
       "       [ 7.16071705,  7.19959304,  7.23886712, ..., -1.14694267,\n",
       "        -1.23366109, -1.32135452],\n",
       "       ...,\n",
       "       [ 8.9562719 ,  8.73667527,  8.45675154, ..., -2.30264842,\n",
       "        -2.45823357, -2.61528278],\n",
       "       [ 8.32897717,  8.13442517,  7.90530432, ..., -2.33732397,\n",
       "        -2.49690013, -2.66141091],\n",
       "       [ 7.81168531,  7.62567357,  7.42353642, ..., -2.37472721,\n",
       "        -2.5414715 , -2.71285281]])</pre></div></li><li class='xr-var-item'><div class='xr-var-name'><span>topography</span></div><div class='xr-var-dims'>(latitude, longitude)</div><div class='xr-var-dtype'>float64</div><div class='xr-var-preview xr-preview'>-5.501e+03 ... -5.085e+03</div><input id='attrs-6373011d-ff4f-4325-897c-01c9a01c2b45' class='xr-var-attrs-in' type='checkbox' disabled><label for='attrs-6373011d-ff4f-4325-897c-01c9a01c2b45' title='Show/Hide attributes'><svg class='icon xr-icon-file-text2'><use xlink:href='#icon-file-text2'></use></svg></label><input id='data-79c5654e-7674-4c65-ab80-58c3ebb45668' class='xr-var-data-in' type='checkbox'><label for='data-79c5654e-7674-4c65-ab80-58c3ebb45668' title='Show/Hide data repr'><svg class='icon xr-icon-database'><use xlink:href='#icon-database'></use></svg></label><div class='xr-var-attrs'><dl class='xr-attrs'></dl></div><div class='xr-var-data'><pre>array([[-5500.50530654, -5447.44992601, -5402.49425506, ...,\n",
       "        -5049.24692812, -5070.6427436 , -5117.98744606],\n",
       "       [-5465.96194789, -5421.28689404, -5384.08792883, ...,\n",
       "        -5015.60371721, -5037.36374228, -5106.10373257],\n",
       "       [-5442.45226118, -5423.32430177, -5401.91818782, ...,\n",
       "        -5028.47597901, -5064.85150844, -5116.38174879],\n",
       "       ...,\n",
       "       [-2934.18784975, -3659.45578811, -4032.1879243 , ...,\n",
       "        -5063.96671663, -5097.41239347, -5105.12775015],\n",
       "       [-3788.01064645, -4187.29441016, -4217.57727761, ...,\n",
       "        -5041.68016833, -5056.60536736, -5090.45010308],\n",
       "       [-4140.80350795, -4196.41673677, -4116.5111067 , ...,\n",
       "        -5028.2800569 , -5026.47212424, -5085.3650629 ]])</pre></div></li></ul></div></li><li class='xr-section-item'><input id='section-9c127c2c-72fd-4458-b083-af7e3b1cb2f8' class='xr-section-summary-in' type='checkbox'  ><label for='section-9c127c2c-72fd-4458-b083-af7e3b1cb2f8' class='xr-section-summary' >Attributes: <span>(32)</span></label><div class='xr-section-inline-details'></div><div class='xr-section-details'><dl class='xr-attrs'><dt><span>generating_institute :</span></dt><dd>gfz-potsdam</dd><dt><span>generating_date :</span></dt><dd>2021/09/08</dd><dt><span>product_type :</span></dt><dd>gravity_field</dd><dt><span>body :</span></dt><dd>earth</dd><dt><span>modelname :</span></dt><dd>EIGEN-6C4</dd><dt><span>max_used_degree :</span></dt><dd>2190</dd><dt><span>tide_system :</span></dt><dd>tide_free</dd><dt><span>functional :</span></dt><dd>gravity_earth (centrifugal term included)</dd><dt><span>unit :</span></dt><dd>mgal</dd><dt><span>refsysname :</span></dt><dd>WGS84</dd><dt><span>gmrefpot :</span></dt><dd>3.98600441800E+14 m**3/s**2</dd><dt><span>radiusrefpot :</span></dt><dd>6378137.000 m</dd><dt><span>flatrefpot :</span></dt><dd>3.352810664747480E-03 (1/298.25722356300)</dd><dt><span>omegarefpot :</span></dt><dd>7.29211500000E-05 1/s</dd><dt><span>normal_potential :</span></dt><dd>6.263685171456948E+07 m**2/s**2</dd><dt><span>long_lat_unit :</span></dt><dd>degree</dd><dt><span>latlimit_north :</span></dt><dd>23.000000000000</dd><dt><span>latlimit_south :</span></dt><dd>18.000000000000</dd><dt><span>longlimit_west :</span></dt><dd>199.00000000000</dd><dt><span>longlimit_east :</span></dt><dd>207.00000000000</dd><dt><span>gridstep :</span></dt><dd>0.50000000000000E-01</dd><dt><span>latitude_parallels :</span></dt><dd>101</dd><dt><span>longitude_parallels :</span></dt><dd>161</dd><dt><span>number_of_gridpoints :</span></dt><dd>16261</dd><dt><span>gapvalue :</span></dt><dd>9999999.0000</dd><dt><span>weighted_mean :</span></dt><dd>9.7867500E+05 mgal</dd><dt><span>maxvalue :</span></dt><dd>9.7908733E+05 mgal</dd><dt><span>minvalue :</span></dt><dd>9.7800946E+05 mgal</dd><dt><span>signal_wrms :</span></dt><dd>1.1488912E+02 mgal</dd><dt><span>grid_format :</span></dt><dd>long_lat_height_value</dd><dt><span>attributes :</span></dt><dd>longitude latitude h_over_geoid gravity_earth</dd><dt><span>attributes_units :</span></dt><dd>deg. deg. meter mgal</dd></dl></div></li></ul></div></div>"
      ],
      "text/plain": [
       "<xarray.Dataset>\n",
       "Dimensions:        (latitude: 101, longitude: 161)\n",
       "Coordinates:\n",
       "  * longitude      (longitude) float64 199.0 199.1 199.1 ... 206.9 206.9 207.0\n",
       "  * latitude       (latitude) float64 18.0 18.05 18.1 18.15 ... 22.9 22.95 23.0\n",
       "Data variables:\n",
       "    h_over_geoid   (latitude, longitude) float64 0.0 0.0 0.0 0.0 ... 0.0 0.0 0.0\n",
       "    gravity_earth  (latitude, longitude) float64 9.785e+05 ... 9.788e+05\n",
       "    geoid          (latitude, longitude) float64 7.057 7.102 ... -2.541 -2.713\n",
       "    topography     (latitude, longitude) float64 -5.501e+03 ... -5.085e+03\n",
       "Attributes: (12/32)\n",
       "    generating_institute:  gfz-potsdam\n",
       "    generating_date:       2021/09/08\n",
       "    product_type:          gravity_field\n",
       "    body:                  earth\n",
       "    modelname:             EIGEN-6C4\n",
       "    max_used_degree:       2190\n",
       "    ...                    ...\n",
       "    maxvalue:              9.7908733E+05 mgal\n",
       "    minvalue:              9.7800946E+05 mgal\n",
       "    signal_wrms:           1.1488912E+02 mgal\n",
       "    grid_format:           long_lat_height_value\n",
       "    attributes:            longitude latitude h_over_geoid gravity_earth\n",
       "    attributes_units:      deg. deg. meter mgal"
      ]
     },
     "execution_count": 12,
     "metadata": {},
     "output_type": "execute_result"
    }
   ],
   "source": [
    "data"
   ]
  },
  {
   "cell_type": "markdown",
   "metadata": {},
   "source": [
    "### Informações sobre a região e os dados"
   ]
  },
  {
   "cell_type": "code",
   "execution_count": 13,
   "metadata": {},
   "outputs": [],
   "source": [
    "region = (-161,-153,18,23)"
   ]
  },
  {
   "cell_type": "markdown",
   "metadata": {},
   "source": [
    "### Cálculo da gravidade normal"
   ]
  },
  {
   "cell_type": "code",
   "execution_count": 14,
   "metadata": {},
   "outputs": [],
   "source": [
    "elipsoide = bl.WGS84"
   ]
  },
  {
   "cell_type": "code",
   "execution_count": 15,
   "metadata": {},
   "outputs": [],
   "source": [
    "data['gamma'] = elipsoide.normal_gravity(data.latitude,data.h_over_geoid)"
   ]
  },
  {
   "cell_type": "markdown",
   "metadata": {},
   "source": [
    "### Cálculo do distúrbio"
   ]
  },
  {
   "cell_type": "code",
   "execution_count": 16,
   "metadata": {},
   "outputs": [],
   "source": [
    "data['disturbance'] = data.gravity_earth - data.gamma"
   ]
  },
  {
   "cell_type": "markdown",
   "metadata": {},
   "source": [
    "### Cálculo da anomalia bouguer "
   ]
  },
  {
   "cell_type": "code",
   "execution_count": 17,
   "metadata": {},
   "outputs": [],
   "source": [
    "data['h_over_ell'] = data.geoid + data.topography\n",
    "bouguer = hm.bouguer_correction(data.h_over_ell)\n",
    "data['disturbance_bouguer'] = data.disturbance - bouguer"
   ]
  },
  {
   "cell_type": "markdown",
   "metadata": {},
   "source": [
    "## Campo de gravidade, gravidade normal e distúrbio"
   ]
  },
  {
   "cell_type": "code",
   "execution_count": 20,
   "metadata": {},
   "outputs": [
    {
     "data": {
      "image/png": "[encoded data removed]",
      "text/plain": [
       "<Figure size 1584x1296 with 8 Axes>"
      ]
     },
     "metadata": {},
     "output_type": "display_data"
    }
   ],
   "source": [
    "fig,(ax1,ax2,ax3,ax4) = plt.subplots(nrows=1,ncols=4,figsize=(22, 18), subplot_kw=dict(projection=ccrs.Mercator()))\n",
    "\n",
    "pg = data.gravity_earth.plot.pcolormesh(ax=ax1, cmap=\"viridis_r\", add_colorbar=False, transform=ccrs.PlateCarree())\n",
    "plt.colorbar(pg, ax=ax1, orientation=\"horizontal\", pad=0.01, aspect=40, label=\"mGal\")\n",
    "ax1.set_title(\"Gravity field\")\n",
    "ax1.set_extent(region,crs=ccrs.PlateCarree())\n",
    "\n",
    "pn = data.h_over_ell.plot.pcolormesh(ax=ax2, cmap=\"terrain\", add_colorbar=False, transform=ccrs.PlateCarree())\n",
    "plt.colorbar(pn, ax=ax2, orientation=\"horizontal\", pad=0.01, aspect=40, label=\"meters\")\n",
    "ax2.set_title(\"Topography\")\n",
    "ax2.set_extent(region,crs=ccrs.PlateCarree())\n",
    "\n",
    "pd = data.disturbance.plot.pcolormesh(ax=ax3, cmap=\"RdBu_r\", add_colorbar=False, transform=ccrs.PlateCarree())\n",
    "plt.colorbar(pd, ax=ax3, orientation=\"horizontal\", pad=0.01, aspect=40, label=\"mGal\")\n",
    "ax3.set_title(\"Gravity disturbance\")\n",
    "ax3.set_extent(region,crs=ccrs.PlateCarree())\n",
    "\n",
    "pb = data.disturbance_bouguer.plot.pcolormesh(ax=ax4, cmap=\"RdBu_r\", add_colorbar=False, transform=ccrs.PlateCarree())\n",
    "plt.colorbar(pb, ax=ax4, orientation=\"horizontal\", pad=0.01, aspect=40, label=\"mGal\")\n",
    "ax4.set_title(\"Bouguer anomaly\")\n",
    "ax4.set_extent(region,crs=ccrs.PlateCarree())\n",
    "\n",
    "plt.show()"
   ]
  },
  {
   "cell_type": "markdown",
   "metadata": {},
   "source": [
    "## Visualização dos dados em um perfil"
   ]
  },
  {
   "cell_type": "markdown",
   "metadata": {},
   "source": [
    "### Definindo as coordenadas em um grid regular"
   ]
  },
  {
   "cell_type": "code",
   "execution_count": 21,
   "metadata": {},
   "outputs": [],
   "source": [
    "spacing = 0.2"
   ]
  },
  {
   "cell_type": "code",
   "execution_count": null,
   "metadata": {},
   "outputs": [],
   "source": [
    "longitude = np.arange(region[0],region[1]+spacing,step=spacing)\n",
    "latitude = np.arange(region[2],region[3]+spacing,step=spacing)"
   ]
  },
  {
   "cell_type": "code",
   "execution_count": null,
   "metadata": {},
   "outputs": [],
   "source": [
    "long,lat = np.meshgrid(longitude,latitude)"
   ]
  },
  {
   "cell_type": "code",
   "execution_count": null,
   "metadata": {},
   "outputs": [],
   "source": [
    "full_coordinates = (long,lat)"
   ]
  },
  {
   "cell_type": "markdown",
   "metadata": {},
   "source": [
    "### Decimando os dados de distúrbio"
   ]
  },
  {
   "cell_type": "code",
   "execution_count": null,
   "metadata": {},
   "outputs": [],
   "source": [
    "spacing = 12/ 60\n",
    "reducer = vd.BlockReduce(reduction=np.median, spacing=spacing)\n",
    "coordinates, disturbance = reducer.filter(\n",
    "    (long,lat), data.disturbance.values)"
   ]
  },
  {
   "cell_type": "code",
   "execution_count": null,
   "metadata": {},
   "outputs": [],
   "source": [
    "projection = pyproj.Proj(proj=\"merc\", lat_ts=coordinates[1].mean())\n",
    "proj_coords = projection(*coordinates)"
   ]
  },
  {
   "cell_type": "markdown",
   "metadata": {},
   "source": [
    "### Interpolação dos dados sobre os perfis"
   ]
  },
  {
   "cell_type": "code",
   "execution_count": null,
   "metadata": {},
   "outputs": [],
   "source": [
    "spline = vd.Spline(damping=9*1e-8)"
   ]
  },
  {
   "cell_type": "code",
   "execution_count": null,
   "metadata": {},
   "outputs": [],
   "source": [
    "start = (-77,-23)\n",
    "end = (-62,-23)"
   ]
  },
  {
   "cell_type": "markdown",
   "metadata": {},
   "source": [
    "#### Perfil do distúrbio"
   ]
  },
  {
   "cell_type": "code",
   "execution_count": null,
   "metadata": {},
   "outputs": [],
   "source": [
    "interpolate_dist = spline.fit(proj_coords,disturbance)"
   ]
  },
  {
   "cell_type": "code",
   "execution_count": null,
   "metadata": {},
   "outputs": [],
   "source": [
    "profile_dist = interpolate_dist.profile(\n",
    "    point1=start,\n",
    "    point2=end, \n",
    "    size=400, \n",
    "    dims=(\"latitude\",\"longitude\"),\n",
    "    data_names=[\"disturbance\"],\n",
    "    projection=projection,)"
   ]
  },
  {
   "cell_type": "code",
   "execution_count": null,
   "metadata": {},
   "outputs": [],
   "source": [
    "profile_dist"
   ]
  },
  {
   "cell_type": "markdown",
   "metadata": {},
   "source": [
    "### Decimando os dados de topografia"
   ]
  },
  {
   "cell_type": "code",
   "execution_count": null,
   "metadata": {},
   "outputs": [],
   "source": [
    "spacing = 12/ 60\n",
    "reducer = vd.BlockReduce(reduction=np.median, spacing=spacing)\n",
    "coordinates, topography = reducer.filter(\n",
    "    (long,lat), data.h_over_ell.values)"
   ]
  },
  {
   "cell_type": "code",
   "execution_count": null,
   "metadata": {},
   "outputs": [],
   "source": [
    "interpolate_topo = spline.fit(proj_coords,topography)"
   ]
  },
  {
   "cell_type": "markdown",
   "metadata": {},
   "source": [
    "#### Perfil dos dados de topografia"
   ]
  },
  {
   "cell_type": "code",
   "execution_count": null,
   "metadata": {},
   "outputs": [],
   "source": [
    "profile_topo = interpolate_topo.profile(\n",
    "    point1=start,\n",
    "    point2=end, \n",
    "    size=400, \n",
    "    dims=(\"latitude\",\"longitude\"),\n",
    "    data_names=[\"topography\"],\n",
    "    projection=projection,)"
   ]
  },
  {
   "cell_type": "code",
   "execution_count": null,
   "metadata": {},
   "outputs": [],
   "source": [
    "profile_topo"
   ]
  },
  {
   "cell_type": "markdown",
   "metadata": {},
   "source": [
    "### Decimando os dados de anomalia bouguer"
   ]
  },
  {
   "cell_type": "code",
   "execution_count": null,
   "metadata": {},
   "outputs": [],
   "source": [
    "spacing = 12/ 60\n",
    "reducer = vd.BlockReduce(reduction=np.median, spacing=spacing)\n",
    "coordinates, bouguer_topo = reducer.filter(\n",
    "    (long,lat), data.disturbance_bouguer.values)"
   ]
  },
  {
   "cell_type": "code",
   "execution_count": null,
   "metadata": {},
   "outputs": [],
   "source": [
    "interpolate_bouguer = spline.fit(proj_coords,bouguer_topo)"
   ]
  },
  {
   "cell_type": "code",
   "execution_count": null,
   "metadata": {},
   "outputs": [],
   "source": [
    "profile_bouguer = interpolate_bouguer.profile(\n",
    "    point1=start,\n",
    "    point2=end, \n",
    "    size=400, \n",
    "    dims=(\"latitude\",\"longitude\"),\n",
    "    data_names=[\"bouguer\"],\n",
    "    projection=projection,)"
   ]
  },
  {
   "cell_type": "code",
   "execution_count": null,
   "metadata": {},
   "outputs": [],
   "source": [
    "profile_bouguer"
   ]
  },
  {
   "cell_type": "markdown",
   "metadata": {},
   "source": [
    "## Visualização dos perfis"
   ]
  },
  {
   "cell_type": "code",
   "execution_count": null,
   "metadata": {},
   "outputs": [],
   "source": [
    "fig,(ax1,ax2,ax3) = plt.subplots(nrows=1,ncols=3,figsize=(14, 8), subplot_kw=dict(projection=ccrs.Mercator()))\n",
    "\n",
    "pn = data.h_over_ell.plot.pcolormesh(ax=ax1, cmap=\"terrain\", add_colorbar=False, transform=ccrs.PlateCarree())\n",
    "plt.colorbar(pn, ax=ax1, orientation=\"horizontal\", pad=0.01, aspect=40, label=\"meters\")\n",
    "ax1.plot(profile_topo.longitude, profile_topo.latitude, \"-k\", transform=ccrs.PlateCarree())\n",
    "ax1.text(start[0], start[1], \"A\", transform=ccrs.PlateCarree())\n",
    "ax1.text(end[0], end[1], \"B\", transform=ccrs.PlateCarree())\n",
    "ax1.coastlines()\n",
    "ax1.set_title(\"Topography\")\n",
    "ax1.set_extent(region,crs=ccrs.PlateCarree())\n",
    "\n",
    "pd = data.disturbance.plot.pcolormesh(ax=ax2, cmap=\"RdBu_r\", add_colorbar=False, transform=ccrs.PlateCarree())\n",
    "plt.colorbar(pd, ax=ax2, orientation=\"horizontal\", pad=0.01, aspect=40, label=\"mGal\")\n",
    "ax2.plot(profile_dist.longitude, profile_dist.latitude, \"-k\", transform=ccrs.PlateCarree())\n",
    "ax2.text(start[0], start[1], \"A\", transform=ccrs.PlateCarree())\n",
    "ax2.text(end[0], end[1], \"B\", transform=ccrs.PlateCarree())\n",
    "ax2.coastlines()\n",
    "ax2.set_title(\"Gravity disturbance\")\n",
    "ax2.set_extent(region,crs=ccrs.PlateCarree())\n",
    "\n",
    "pb = data.disturbance_bouguer.plot.pcolormesh(ax=ax3, cmap=\"RdBu_r\", add_colorbar=False, transform=ccrs.PlateCarree())\n",
    "plt.colorbar(pb, ax=ax3, orientation=\"horizontal\", pad=0.01, aspect=40, label=\"mGal\")\n",
    "ax3.plot(profile_bouguer.longitude, profile_bouguer.latitude, \"-k\", transform=ccrs.PlateCarree())\n",
    "ax3.text(start[0], start[1], \"A\", transform=ccrs.PlateCarree())\n",
    "ax3.text(end[0], end[1], \"B\", transform=ccrs.PlateCarree())\n",
    "ax3.coastlines()\n",
    "ax3.set_title(\"Bouguer anomaly\")\n",
    "ax3.set_extent(region,crs=ccrs.PlateCarree())\n",
    "\n",
    "plt.show()"
   ]
  },
  {
   "cell_type": "code",
   "execution_count": null,
   "metadata": {},
   "outputs": [],
   "source": [
    "fig,(ax1,ax2) = plt.subplots(nrows=2, ncols=1, sharex=True,figsize=(15, 5))\n",
    "\n",
    "### Disturbio e anomalia bouguer (com a topografia)\n",
    "ax1.set_title(\"Profile of gravity data (A-B)\")\n",
    "ax1.plot(profile_dist.distance, profile_dist.disturbance, \"-g\",label='disturbance')\n",
    "ax1.plot(profile_bouguer.distance, profile_bouguer.bouguer, \"-r\",label='bouguer')\n",
    "ax1.set_ylabel(\"gravity data (mGal)\")\n",
    "ax1.set_xlim(profile_dist.distance.min(), profile_dist.distance.max())\n",
    "ax1.legend()\n",
    "\n",
    "### Topografia e o nível do mar\n",
    "ax2.fill_between(profile_topo.distance,0.,min(profile_topo.topography),color='blue')\n",
    "ax2.fill_between(profile_topo.distance,profile_topo.topography,min(profile_topo.topography),color='black')\n",
    "ax2.set_ylabel(\"topography (meters)\")\n",
    "ax2.set_xlim(profile_topo.distance.min(), profile_topo.distance.max())\n",
    "ax2.set_xlabel(\"Distance (m)\")\n",
    "\n",
    "plt.tight_layout()\n",
    "plt.show()"
   ]
  }
 ],
 "metadata": {
  "kernelspec": {
   "display_name": "Python 3",
   "language": "python",
   "name": "python3"
  },
  "language_info": {
   "codemirror_mode": {
    "name": "ipython",
    "version": 3
   },
   "file_extension": ".py",
   "mimetype": "text/x-python",
   "name": "python",
   "nbconvert_exporter": "python",
   "pygments_lexer": "ipython3",
   "version": "3.7.6"
  }
 },
 "nbformat": 4,
 "nbformat_minor": 2
}
