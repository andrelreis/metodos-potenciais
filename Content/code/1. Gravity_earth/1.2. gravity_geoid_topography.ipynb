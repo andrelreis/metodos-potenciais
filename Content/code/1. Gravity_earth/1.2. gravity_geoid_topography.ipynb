{
 "cells": [
  {
   "cell_type": "markdown",
   "metadata": {},
   "source": [
    "# Campo de gravidade, Geoide e Topografia"
   ]
  },
  {
   "cell_type": "markdown",
   "metadata": {},
   "source": [
    "## Importando bibliotecas"
   ]
  },
  {
   "cell_type": "code",
   "execution_count": null,
   "metadata": {},
   "outputs": [],
   "source": [
    "import numpy as np\n",
    "import matplotlib.pyplot as plt\n",
    "import pandas as pd\n",
    "import cartopy.crs as ccrs\n",
    "import xarray as xr"
   ]
  },
  {
   "cell_type": "code",
   "execution_count": null,
   "metadata": {},
   "outputs": [],
   "source": [
    "import read_data"
   ]
  },
  {
   "cell_type": "code",
   "execution_count": null,
   "metadata": {},
   "outputs": [],
   "source": [
    "notebook_name = '1.2. gravity_earth.ipynb'"
   ]
  },
  {
   "cell_type": "markdown",
   "metadata": {},
   "source": [
    "### Plot Style"
   ]
  },
  {
   "cell_type": "code",
   "execution_count": null,
   "metadata": {},
   "outputs": [],
   "source": [
    "plt.style.use('ggplot')"
   ]
  },
  {
   "cell_type": "markdown",
   "metadata": {},
   "source": [
    "### Carregando os dados "
   ]
  },
  {
   "cell_type": "markdown",
   "metadata": {},
   "source": [
    "##### utilizando pandas"
   ]
  },
  {
   "cell_type": "code",
   "execution_count": null,
   "metadata": {},
   "outputs": [],
   "source": [
    "fname_grav = 'data_set/gravity_1deg_EIGEN-6C4.gdf'"
   ]
  },
  {
   "cell_type": "code",
   "execution_count": null,
   "metadata": {},
   "outputs": [],
   "source": [
    "grav = pd.read_csv(fname_grav)"
   ]
  },
  {
   "cell_type": "markdown",
   "metadata": {},
   "source": [
    "##### utilizando xarray"
   ]
  },
  {
   "cell_type": "code",
   "execution_count": null,
   "metadata": {},
   "outputs": [],
   "source": [
    "fname_geo = 'data_set/geoid_1deg_EIGEN-6C4.nc'"
   ]
  },
  {
   "cell_type": "code",
   "execution_count": null,
   "metadata": {},
   "outputs": [],
   "source": [
    "fname_topo = 'data_set/topography_etopo1_1deg.nc'"
   ]
  },
  {
   "cell_type": "code",
   "execution_count": null,
   "metadata": {},
   "outputs": [],
   "source": [
    "geo = read_data.fetch_dataset(fname_geo)"
   ]
  },
  {
   "cell_type": "code",
   "execution_count": null,
   "metadata": {},
   "outputs": [],
   "source": [
    "topo = read_data.fetch_dataset(fname_topo)"
   ]
  },
  {
   "cell_type": "markdown",
   "metadata": {},
   "source": [
    "#### Armazenando os dados em vetores"
   ]
  },
  {
   "cell_type": "code",
   "execution_count": null,
   "metadata": {},
   "outputs": [],
   "source": [
    "lon = geo.longitude"
   ]
  },
  {
   "cell_type": "code",
   "execution_count": null,
   "metadata": {},
   "outputs": [],
   "source": [
    "lat = geo.latitude"
   ]
  },
  {
   "cell_type": "code",
   "execution_count": null,
   "metadata": {},
   "outputs": [],
   "source": [
    "grav_terra = np.reshape(grav.gravity.values,(lat.size,lon.size))"
   ]
  },
  {
   "cell_type": "code",
   "execution_count": null,
   "metadata": {},
   "outputs": [],
   "source": [
    "geoide = geo.geoid"
   ]
  },
  {
   "cell_type": "code",
   "execution_count": null,
   "metadata": {},
   "outputs": [],
   "source": [
    "topografia = topo.topography"
   ]
  },
  {
   "cell_type": "markdown",
   "metadata": {},
   "source": [
    "## Visualização dos dados de gravidade, geoide e topografia para o mundo inteiro"
   ]
  },
  {
   "cell_type": "code",
   "execution_count": null,
   "metadata": {},
   "outputs": [],
   "source": [
    "title_font = 18\n",
    "bottom_font = 15\n",
    "plt.figure(figsize=(20,20))\n",
    "projection = ccrs.Mollweide()\n",
    "\n",
    "### Campo de gravidade\n",
    "ax = plt.subplot(311,projection=projection)\n",
    "ax.set_global()\n",
    "ax.coastlines()\n",
    "ax.set_title('Gravidade (mGal)',size=title_font)\n",
    "pg = ax.contourf(lon,\n",
    "                 lat,\n",
    "                 grav_terra,100,transform=ccrs.PlateCarree(),cmap='RdBu_r')\n",
    "cb = plt.colorbar(pg, orientation=\"horizontal\", pad=0.01, aspect=50, shrink=0.5)\n",
    "\n",
    "### Geoide\n",
    "ax = plt.subplot(312,projection=projection)\n",
    "ax.set_global()\n",
    "ax.coastlines()\n",
    "ax.set_title('Geoide (m)',size=title_font)\n",
    "pg = ax.pcolormesh(lon,\n",
    "                   lat,\n",
    "                   geoide,100,transform=ccrs.PlateCarree(),cmap='RdBu_r')\n",
    "cb = plt.colorbar(pg, orientation=\"horizontal\", pad=0.01, aspect=50, shrink=0.5)\n",
    "\n",
    "### Topografia\n",
    "ax = plt.subplot(313,projection=projection)\n",
    "ax.set_global()\n",
    "ax.coastlines()\n",
    "ax.set_title('Topografia (m)',size=title_font)\n",
    "pg = ax.contourf(lon,\n",
    "                 lat,\n",
    "                 topografia,50,transform=ccrs.PlateCarree(),cmap='terrain')\n",
    "cb = plt.colorbar(pg, orientation=\"horizontal\", pad=0.01, aspect=50, shrink=0.5)\n",
    "\n",
    "plt.show()"
   ]
  },
  {
   "cell_type": "code",
   "execution_count": null,
   "metadata": {},
   "outputs": [],
   "source": []
  }
 ],
 "metadata": {
  "kernelspec": {
   "display_name": "Python 3",
   "language": "python",
   "name": "python3"
  },
  "language_info": {
   "codemirror_mode": {
    "name": "ipython",
    "version": 3
   },
   "file_extension": ".py",
   "mimetype": "text/x-python",
   "name": "python",
   "nbconvert_exporter": "python",
   "pygments_lexer": "ipython3",
   "version": "3.7.6"
  }
 },
 "nbformat": 4,
 "nbformat_minor": 2
}
