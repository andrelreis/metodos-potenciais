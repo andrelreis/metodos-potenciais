{
 "cells": [
  {
   "cell_type": "markdown",
   "metadata": {
    "slideshow": {
     "slide_type": "slide"
    }
   },
   "source": [
    "# Copiando os dados para um arquivo"
   ]
  },
  {
   "cell_type": "markdown",
   "metadata": {},
   "source": [
    "## Importando bibliotecas"
   ]
  },
  {
   "cell_type": "code",
   "execution_count": 1,
   "metadata": {},
   "outputs": [],
   "source": [
    "import numpy as np\n",
    "import matplotlib.pyplot as plt\n",
    "import pandas as pd\n",
    "import xarray as xr"
   ]
  },
  {
   "cell_type": "code",
   "execution_count": 2,
   "metadata": {},
   "outputs": [],
   "source": [
    "notebook_name = '1.1. fetching_data_gravity.ipynb'"
   ]
  },
  {
   "cell_type": "markdown",
   "metadata": {},
   "source": [
    "### Escrevendo os dados para um arquivo .nc"
   ]
  },
  {
   "cell_type": "markdown",
   "metadata": {},
   "source": [
    "#### Dados de gravidade "
   ]
  },
  {
   "cell_type": "code",
   "execution_count": 3,
   "metadata": {},
   "outputs": [],
   "source": [
    "filename = 'data_set/gravity_05deg_EIGEN-6C4.gdf'"
   ]
  },
  {
   "cell_type": "code",
   "execution_count": 4,
   "metadata": {},
   "outputs": [],
   "source": [
    "names = ['longitude','latitude','height','gravity']"
   ]
  },
  {
   "cell_type": "code",
   "execution_count": 5,
   "metadata": {},
   "outputs": [],
   "source": [
    "data = pd.read_csv(filename,usecols=(0,1,2,3),names=names, skipinitialspace=True, skiprows=34,delim_whitespace=True,low_memory=False)\n",
    "data.to_csv('data_set/gravity_05deg_EIGEN-6C4.csv')"
   ]
  },
  {
   "cell_type": "code",
   "execution_count": 6,
   "metadata": {},
   "outputs": [],
   "source": [
    "lat = np.arange(-90,90.5,step=0.5,dtype=np.float64)[::-1]"
   ]
  },
  {
   "cell_type": "code",
   "execution_count": 7,
   "metadata": {},
   "outputs": [],
   "source": [
    "lon = np.arange(-180,180.5,step=0.5,dtype=np.float64)"
   ]
  },
  {
   "cell_type": "code",
   "execution_count": 8,
   "metadata": {},
   "outputs": [],
   "source": [
    "grav = np.reshape(data.gravity.values,(lat.size,lon.size))"
   ]
  },
  {
   "cell_type": "code",
   "execution_count": 9,
   "metadata": {},
   "outputs": [],
   "source": [
    "height = np.reshape(data.height.values,(lat.size,lon.size))"
   ]
  },
  {
   "cell_type": "code",
   "execution_count": 10,
   "metadata": {},
   "outputs": [],
   "source": [
    "dg = xr.Dataset(data_vars = dict(gravity = ([\"latitude\",\"longitude\"], grav),\n",
    "                                 height =  ([\"latitude\",\"longitude\"], height)), \n",
    "                   coords = dict(latitude = ([\"latitude\"], lat),\n",
    "                                 longitude = ([\"longitude\"], lon)),\n",
    "                    attrs = dict(description = \"Gravity Earth data\",\n",
    "                                 generating_institute = \"gfz-postdam\",\n",
    "                                 model_name = \"EIGEN-6C4\",\n",
    "                                 grid_format = \"long_lat_grav\",\n",
    "                                 attributes = \"longitude latitude gravity\",\n",
    "                                 atributes_unit = \"degree degree mGal\",   \n",
    "                                  ),).to_netcdf(\"data_set/gravity_05deg_EIGEN-6C4.nc\")"
   ]
  }
 ],
 "metadata": {
  "celltoolbar": "Raw Cell Format",
  "kernelspec": {
   "display_name": "Python 3",
   "language": "python",
   "name": "python3"
  },
  "language_info": {
   "codemirror_mode": {
    "name": "ipython",
    "version": 3
   },
   "file_extension": ".py",
   "mimetype": "text/x-python",
   "name": "python",
   "nbconvert_exporter": "python",
   "pygments_lexer": "ipython3",
   "version": "3.7.6"
  }
 },
 "nbformat": 4,
 "nbformat_minor": 2
}
