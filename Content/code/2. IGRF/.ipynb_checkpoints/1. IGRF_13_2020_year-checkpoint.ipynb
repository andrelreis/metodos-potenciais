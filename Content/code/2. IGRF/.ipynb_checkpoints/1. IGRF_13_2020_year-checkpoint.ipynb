{
 "cells": [
  {
   "cell_type": "markdown",
   "metadata": {},
   "source": [
    "# 13ª Geração do Campo Geomagnético de Referência (IGRF-13)"
   ]
  },
  {
   "cell_type": "markdown",
   "metadata": {},
   "source": [
    "## Importando bibliotecas"
   ]
  },
  {
   "cell_type": "code",
   "execution_count": 1,
   "metadata": {},
   "outputs": [],
   "source": [
    "import sys\n",
    "import numpy as np\n",
    "import matplotlib.pyplot as plt\n",
    "import pandas as pd\n",
    "import cartopy.crs as ccrs"
   ]
  },
  {
   "cell_type": "code",
   "execution_count": 2,
   "metadata": {},
   "outputs": [],
   "source": [
    "notebook_name = '1.IGRF_13_2020_year.ipynb'"
   ]
  },
  {
   "cell_type": "markdown",
   "metadata": {},
   "source": [
    "### Plot style"
   ]
  },
  {
   "cell_type": "code",
   "execution_count": null,
   "metadata": {},
   "outputs": [],
   "source": [
    "plt.style.use('ggplot')"
   ]
  },
  {
   "cell_type": "markdown",
   "metadata": {},
   "source": [
    "### Loading data inclination"
   ]
  },
  {
   "cell_type": "code",
   "execution_count": null,
   "metadata": {},
   "outputs": [],
   "source": [
    "filename = 'data_set/igrf_grid_inclination.csv'"
   ]
  },
  {
   "cell_type": "code",
   "execution_count": null,
   "metadata": {},
   "outputs": [],
   "source": [
    "names = ['YEAR','LAT','LONG','INC']"
   ]
  },
  {
   "cell_type": "code",
   "execution_count": null,
   "metadata": {},
   "outputs": [],
   "source": [
    "data = pd.read_csv(filename,usecols=(0,1,2,4),names=names,skipinitialspace=True,skiprows=13).to_numpy()"
   ]
  },
  {
   "cell_type": "code",
   "execution_count": null,
   "metadata": {},
   "outputs": [],
   "source": [
    "data_set['inc'] = data[:,3]"
   ]
  },
  {
   "cell_type": "code",
   "execution_count": null,
   "metadata": {},
   "outputs": [],
   "source": [
    "data_set['inc'].size"
   ]
  },
  {
   "cell_type": "markdown",
   "metadata": {},
   "source": [
    "### Loading data declination"
   ]
  },
  {
   "cell_type": "code",
   "execution_count": null,
   "metadata": {},
   "outputs": [],
   "source": [
    "filename = 'data_set/igrf_grid_declination.csv'"
   ]
  },
  {
   "cell_type": "code",
   "execution_count": null,
   "metadata": {},
   "outputs": [],
   "source": [
    "names = ['YEAR','LAT','LONG','DEC']"
   ]
  },
  {
   "cell_type": "code",
   "execution_count": null,
   "metadata": {},
   "outputs": [],
   "source": [
    "data = pd.read_csv(filename,usecols=(0,1,2,4),names=names,skipinitialspace=True,skiprows=13).to_numpy()"
   ]
  },
  {
   "cell_type": "code",
   "execution_count": null,
   "metadata": {},
   "outputs": [],
   "source": [
    "data_set['dec'] = data[:,3]"
   ]
  },
  {
   "cell_type": "code",
   "execution_count": null,
   "metadata": {},
   "outputs": [],
   "source": [
    "data_set['dec'].size"
   ]
  },
  {
   "cell_type": "markdown",
   "metadata": {},
   "source": [
    "### Loading data of total intensity"
   ]
  },
  {
   "cell_type": "code",
   "execution_count": null,
   "metadata": {},
   "outputs": [],
   "source": [
    "filename = 'data_set/igrf_grid_intensity.csv'"
   ]
  },
  {
   "cell_type": "code",
   "execution_count": null,
   "metadata": {},
   "outputs": [],
   "source": [
    "names = ['YEAR','LAT','LONG','TOT']"
   ]
  },
  {
   "cell_type": "code",
   "execution_count": null,
   "metadata": {},
   "outputs": [],
   "source": [
    "data = pd.read_csv(filename,usecols=(0,1,2,4),names=names,skipinitialspace=True,skiprows=13).to_numpy()"
   ]
  },
  {
   "cell_type": "code",
   "execution_count": null,
   "metadata": {},
   "outputs": [],
   "source": [
    "data_set['tot'] = data[:,3]"
   ]
  },
  {
   "cell_type": "code",
   "execution_count": null,
   "metadata": {},
   "outputs": [],
   "source": [
    "data_set['tot'].size"
   ]
  },
  {
   "cell_type": "markdown",
   "metadata": {},
   "source": [
    "## Generating coordinates"
   ]
  },
  {
   "cell_type": "code",
   "execution_count": null,
   "metadata": {},
   "outputs": [],
   "source": [
    "data_set['long'] = data[:,2]\n",
    "data_set['lat'] = data[:,1]"
   ]
  },
  {
   "cell_type": "markdown",
   "metadata": {},
   "source": [
    "## For the year 2020 (IGRF-13)"
   ]
  },
  {
   "cell_type": "code",
   "execution_count": null,
   "metadata": {},
   "outputs": [],
   "source": [
    "title_font = 22\n",
    "bottom_font = 18\n",
    "fig = plt.figure(figsize=(12,12),tight_layout=True)\n",
    "projection = ccrs.Mollweide()\n",
    "\n",
    "ax1 = plt.axes(projection=projection)\n",
    "ax1.stock_img()\n",
    "ax1.set_global()\n",
    "ax1.set_title('Inclination (Degrees)', size=title_font)\n",
    "pg1 = ax1.tricontour(data_set['long'],\n",
    "                     data_set['lat'],\n",
    "                     data_set['inc'],50,transform=ccrs.PlateCarree(),colors='k',linewidths=1)\n",
    "plt.clabel(pg1, inline=2, fontsize=10)\n",
    "\n",
    "file_name = 'images/inclination_2020'\n",
    "plt.savefig(file_name+'.png',dpi=300)\n",
    "saved_files.append(file_name+'.png')\n",
    "plt.show()"
   ]
  },
  {
   "cell_type": "code",
   "execution_count": null,
   "metadata": {},
   "outputs": [],
   "source": [
    "title_font = 22\n",
    "bottom_font = 18\n",
    "fig = plt.figure(figsize=(12,12),tight_layout=True)\n",
    "projection = ccrs.Mollweide()\n",
    "\n",
    "ax2 = plt.axes(projection=projection)\n",
    "ax2.stock_img()\n",
    "ax2.set_global()\n",
    "ax2.set_title('Declination (Degrees)', size=title_font)\n",
    "pg2 = ax2.tricontour(data_set['long'],\n",
    "                     data_set['lat'],\n",
    "                     data_set['dec'],70,transform=ccrs.PlateCarree(),colors='k',linewidths=1)\n",
    "plt.clabel(pg2, inline=2, fontsize=10)\n",
    "\n",
    "file_name = 'images/declination_2020'\n",
    "plt.savefig(file_name+'.png',dpi=300)\n",
    "saved_files.append(file_name+'.png')\n",
    "plt.show()"
   ]
  },
  {
   "cell_type": "code",
   "execution_count": null,
   "metadata": {},
   "outputs": [],
   "source": [
    "title_font = 22\n",
    "bottom_font = 18\n",
    "fig = plt.figure(figsize=(12,12),tight_layout=True)\n",
    "projection = ccrs.Mollweide()\n",
    "\n",
    "ax3 = plt.axes(projection=projection)\n",
    "ax3.stock_img()\n",
    "ax3.set_global()\n",
    "ax3.set_title('Total Field (nT)', size=title_font)\n",
    "pg3 = ax3.tricontour(data_set['long'],\n",
    "                     data_set['lat'],\n",
    "                     data_set['tot'],30,transform=ccrs.PlateCarree(),colors='k',linewidths=1)\n",
    "plt.clabel(pg3, inline=2, fontsize=10)\n",
    "\n",
    "file_name = 'images/igrf_2020'\n",
    "plt.savefig(file_name+'.png',dpi=300)\n",
    "saved_files.append(file_name+'.png')\n",
    "plt.show()"
   ]
  },
  {
   "cell_type": "code",
   "execution_count": null,
   "metadata": {},
   "outputs": [],
   "source": []
  }
 ],
 "metadata": {
  "kernelspec": {
   "display_name": "Python 3",
   "language": "python",
   "name": "python3"
  },
  "language_info": {
   "codemirror_mode": {
    "name": "ipython",
    "version": 3
   },
   "file_extension": ".py",
   "mimetype": "text/x-python",
   "name": "python",
   "nbconvert_exporter": "python",
   "pygments_lexer": "ipython3",
   "version": "3.7.6"
  }
 },
 "nbformat": 4,
 "nbformat_minor": 2
}
