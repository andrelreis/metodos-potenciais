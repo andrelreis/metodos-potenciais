{
 "cells": [
  {
   "cell_type": "markdown",
   "metadata": {},
   "source": [
    "# Queda livre de um corpo"
   ]
  },
  {
   "cell_type": "markdown",
   "metadata": {},
   "source": [
    "## Importando bibliotecas"
   ]
  },
  {
   "cell_type": "code",
   "execution_count": 1,
   "metadata": {},
   "outputs": [],
   "source": [
    "import numpy as np\n",
    "import matplotlib.pyplot as plt"
   ]
  },
  {
   "cell_type": "markdown",
   "metadata": {},
   "source": [
    "## Tempos de queda"
   ]
  },
  {
   "cell_type": "code",
   "execution_count": 2,
   "metadata": {},
   "outputs": [],
   "source": [
    "t = np.linspace(0.,10.,num=20)"
   ]
  },
  {
   "cell_type": "code",
   "execution_count": 3,
   "metadata": {},
   "outputs": [
    {
     "data": {
      "text/plain": [
       "array([ 0.        ,  0.52631579,  1.05263158,  1.57894737,  2.10526316,\n",
       "        2.63157895,  3.15789474,  3.68421053,  4.21052632,  4.73684211,\n",
       "        5.26315789,  5.78947368,  6.31578947,  6.84210526,  7.36842105,\n",
       "        7.89473684,  8.42105263,  8.94736842,  9.47368421, 10.        ])"
      ]
     },
     "execution_count": 3,
     "metadata": {},
     "output_type": "execute_result"
    }
   ],
   "source": [
    "t"
   ]
  },
  {
   "cell_type": "code",
   "execution_count": 4,
   "metadata": {},
   "outputs": [],
   "source": [
    "t2 = t*t"
   ]
  },
  {
   "cell_type": "code",
   "execution_count": 5,
   "metadata": {},
   "outputs": [
    {
     "data": {
      "text/plain": [
       "array([  0.        ,   0.27700831,   1.10803324,   2.49307479,\n",
       "         4.43213296,   6.92520776,   9.97229917,  13.5734072 ,\n",
       "        17.72853186,  22.43767313,  27.70083102,  33.51800554,\n",
       "        39.88919668,  46.81440443,  54.29362881,  62.32686981,\n",
       "        70.91412742,  80.05540166,  89.75069252, 100.        ])"
      ]
     },
     "execution_count": 5,
     "metadata": {},
     "output_type": "execute_result"
    }
   ],
   "source": [
    "t2"
   ]
  },
  {
   "cell_type": "markdown",
   "metadata": {},
   "source": [
    "### Parâmentos verdadeiros"
   ]
  },
  {
   "cell_type": "code",
   "execution_count": 6,
   "metadata": {},
   "outputs": [],
   "source": [
    "h = 10.  # metros\n",
    "v0 = 10. # metros por segundo\n",
    "g = 9.8  # metros por segundo ao quadrado"
   ]
  },
  {
   "cell_type": "code",
   "execution_count": 7,
   "metadata": {},
   "outputs": [],
   "source": [
    "m_true = np.array([h,v0,-g])"
   ]
  },
  {
   "cell_type": "markdown",
   "metadata": {},
   "source": [
    "### Sensitivity matrix"
   ]
  },
  {
   "cell_type": "code",
   "execution_count": 8,
   "metadata": {},
   "outputs": [],
   "source": [
    "A = np.empty((t.size,m_true.size))"
   ]
  },
  {
   "cell_type": "code",
   "execution_count": 9,
   "metadata": {},
   "outputs": [],
   "source": [
    "A[:,0] = np.ones_like(t)\n",
    "A[:,1] = t\n",
    "A[:,2] = 0.5*t2"
   ]
  },
  {
   "cell_type": "code",
   "execution_count": 10,
   "metadata": {},
   "outputs": [
    {
     "data": {
      "text/plain": [
       "array([[ 1.        ,  0.        ,  0.        ],\n",
       "       [ 1.        ,  0.52631579,  0.13850416],\n",
       "       [ 1.        ,  1.05263158,  0.55401662],\n",
       "       [ 1.        ,  1.57894737,  1.2465374 ],\n",
       "       [ 1.        ,  2.10526316,  2.21606648],\n",
       "       [ 1.        ,  2.63157895,  3.46260388],\n",
       "       [ 1.        ,  3.15789474,  4.98614958],\n",
       "       [ 1.        ,  3.68421053,  6.7867036 ],\n",
       "       [ 1.        ,  4.21052632,  8.86426593],\n",
       "       [ 1.        ,  4.73684211, 11.21883657],\n",
       "       [ 1.        ,  5.26315789, 13.85041551],\n",
       "       [ 1.        ,  5.78947368, 16.75900277],\n",
       "       [ 1.        ,  6.31578947, 19.94459834],\n",
       "       [ 1.        ,  6.84210526, 23.40720222],\n",
       "       [ 1.        ,  7.36842105, 27.1468144 ],\n",
       "       [ 1.        ,  7.89473684, 31.1634349 ],\n",
       "       [ 1.        ,  8.42105263, 35.45706371],\n",
       "       [ 1.        ,  8.94736842, 40.02770083],\n",
       "       [ 1.        ,  9.47368421, 44.87534626],\n",
       "       [ 1.        , 10.        , 50.        ]])"
      ]
     },
     "execution_count": 10,
     "metadata": {},
     "output_type": "execute_result"
    }
   ],
   "source": [
    "A"
   ]
  },
  {
   "cell_type": "markdown",
   "metadata": {},
   "source": [
    "### Observed data"
   ]
  },
  {
   "cell_type": "code",
   "execution_count": 11,
   "metadata": {},
   "outputs": [],
   "source": [
    "np.random.seed(40)\n",
    "mu, std = 0.,0.005\n",
    "r = np.random.normal(mu,std,t.size)"
   ]
  },
  {
   "cell_type": "code",
   "execution_count": 12,
   "metadata": {},
   "outputs": [
    {
     "data": {
      "text/plain": [
       "array([-0.00303774, -0.00063068, -0.00342303,  0.00464357, -0.00922201,\n",
       "       -0.00233501,  0.01146245,  0.00244405,  0.00355133,  0.00527767,\n",
       "        0.00027037,  0.00128977,  0.00294141,  0.00442622, -0.00508504,\n",
       "       -0.00066847, -0.00219093,  0.00246722, -0.00099505, -0.00637492])"
      ]
     },
     "execution_count": 12,
     "metadata": {},
     "output_type": "execute_result"
    }
   ],
   "source": [
    "r"
   ]
  },
  {
   "cell_type": "code",
   "execution_count": 13,
   "metadata": {},
   "outputs": [],
   "source": [
    "y_obs = np.dot(A,m_true) + r"
   ]
  },
  {
   "cell_type": "markdown",
   "metadata": {},
   "source": [
    "### Plotting data"
   ]
  },
  {
   "cell_type": "code",
   "execution_count": 14,
   "metadata": {},
   "outputs": [
    {
     "data": {
      "image/png": "[encoded data removed]",
      "text/plain": [
       "<Figure size 720x720 with 1 Axes>"
      ]
     },
     "metadata": {
      "needs_background": "light"
     },
     "output_type": "display_data"
    }
   ],
   "source": [
    "plt.figure(figsize=(10,10))\n",
    "plt.plot(t, y_obs, 'b+', label = 'observed')\n",
    "plt.legend(loc = 'best', fontsize = 14)\n",
    "plt.xticks(fontsize = 12)\n",
    "plt.yticks(fontsize = 12)\n",
    "plt.xlabel('Time (s)', fontsize = 16)\n",
    "plt.ylabel('Observed position (m)', fontsize = 16)\n",
    "plt.grid()\n",
    "\n",
    "file_name = 'images/observed_points'\n",
    "plt.savefig(file_name+'.png',dpi=300)\n",
    "plt.show()"
   ]
  },
  {
   "cell_type": "markdown",
   "metadata": {},
   "source": [
    "## Solving linear system with L2 and L1 norm"
   ]
  },
  {
   "cell_type": "markdown",
   "metadata": {},
   "source": [
    "### L2-norm"
   ]
  },
  {
   "cell_type": "code",
   "execution_count": 15,
   "metadata": {},
   "outputs": [],
   "source": [
    "def L2_norm(A,d):\n",
    "    At = A.T\n",
    "    AtA = np.dot(At,A)\n",
    "    Atd = np.dot(At,d)\n",
    "    m = np.linalg.solve(AtA,Atd)\n",
    "    return m "
   ]
  },
  {
   "cell_type": "code",
   "execution_count": 16,
   "metadata": {},
   "outputs": [],
   "source": [
    "m_L2 = L2_norm(A,y_obs)"
   ]
  },
  {
   "cell_type": "code",
   "execution_count": 17,
   "metadata": {},
   "outputs": [],
   "source": [
    "y_L2 = np.dot(A,m_L2)"
   ]
  },
  {
   "cell_type": "markdown",
   "metadata": {},
   "source": [
    "### Visualization the results"
   ]
  },
  {
   "cell_type": "code",
   "execution_count": 18,
   "metadata": {},
   "outputs": [
    {
     "data": {
      "image/png": "[encoded data removed]",
      "text/plain": [
       "<Figure size 720x720 with 1 Axes>"
      ]
     },
     "metadata": {
      "needs_background": "light"
     },
     "output_type": "display_data"
    }
   ],
   "source": [
    "plt.figure(figsize=(10,10))\n",
    "plt.plot(t, y_obs, 'b*', label = 'observed')\n",
    "plt.plot(t, y_L2, 'r--', label = 'L2-norm')\n",
    "plt.legend(loc = 'best', fontsize = 14)\n",
    "plt.xticks(fontsize = 12)\n",
    "plt.yticks(fontsize = 12)\n",
    "plt.xlabel('Time (s)', fontsize = 16)\n",
    "plt.ylabel('Observed position (m)', fontsize = 16)\n",
    "plt.grid()\n",
    "plt.show()"
   ]
  },
  {
   "cell_type": "markdown",
   "metadata": {},
   "source": [
    "### Comparison with estimated and true parameters"
   ]
  },
  {
   "cell_type": "code",
   "execution_count": 19,
   "metadata": {},
   "outputs": [
    {
     "name": "stdout",
     "output_type": "stream",
     "text": [
      "[10.  10.  -9.8]\n",
      "[ 9.99648914 10.0025595  -9.80052885]\n"
     ]
    }
   ],
   "source": [
    "print (m_true)\n",
    "print (m_L2)"
   ]
  },
  {
   "cell_type": "code",
   "execution_count": null,
   "metadata": {},
   "outputs": [],
   "source": []
  },
  {
   "cell_type": "code",
   "execution_count": null,
   "metadata": {},
   "outputs": [],
   "source": []
  }
 ],
 "metadata": {
  "kernelspec": {
   "display_name": "Python 3",
   "language": "python",
   "name": "python3"
  },
  "language_info": {
   "codemirror_mode": {
    "name": "ipython",
    "version": 3
   },
   "file_extension": ".py",
   "mimetype": "text/x-python",
   "name": "python",
   "nbconvert_exporter": "python",
   "pygments_lexer": "ipython3",
   "version": "3.7.6"
  }
 },
 "nbformat": 4,
 "nbformat_minor": 1
}
