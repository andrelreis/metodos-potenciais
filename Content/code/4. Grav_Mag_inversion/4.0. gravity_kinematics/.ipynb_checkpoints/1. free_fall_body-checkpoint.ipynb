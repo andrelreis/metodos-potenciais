{
 "cells": [
  {
   "cell_type": "markdown",
   "metadata": {},
   "source": [
    "# Queda livre de um corpo"
   ]
  },
  {
   "cell_type": "markdown",
   "metadata": {},
   "source": [
    "## Importando bibliotecas"
   ]
  },
  {
   "cell_type": "code",
   "execution_count": 1,
   "metadata": {},
   "outputs": [],
   "source": [
    "import numpy as np\n",
    "import matplotlib.pyplot as plt"
   ]
  },
  {
   "cell_type": "markdown",
   "metadata": {},
   "source": [
    "## Tempos de queda"
   ]
  },
  {
   "cell_type": "code",
   "execution_count": 2,
   "metadata": {},
   "outputs": [],
   "source": [
    "x = np.linspace(0.,20.,num=20)"
   ]
  },
  {
   "cell_type": "code",
   "execution_count": 3,
   "metadata": {},
   "outputs": [
    {
     "data": {
      "text/plain": [
       "array([ 0.        ,  1.05263158,  2.10526316,  3.15789474,  4.21052632,\n",
       "        5.26315789,  6.31578947,  7.36842105,  8.42105263,  9.47368421,\n",
       "       10.52631579, 11.57894737, 12.63157895, 13.68421053, 14.73684211,\n",
       "       15.78947368, 16.84210526, 17.89473684, 18.94736842, 20.        ])"
      ]
     },
     "execution_count": 3,
     "metadata": {},
     "output_type": "execute_result"
    }
   ],
   "source": [
    "x"
   ]
  },
  {
   "cell_type": "code",
   "execution_count": 4,
   "metadata": {},
   "outputs": [],
   "source": [
    "x2 = x*x"
   ]
  },
  {
   "cell_type": "code",
   "execution_count": 5,
   "metadata": {},
   "outputs": [
    {
     "data": {
      "text/plain": [
       "array([  0.        ,   1.10803324,   4.43213296,   9.97229917,\n",
       "        17.72853186,  27.70083102,  39.88919668,  54.29362881,\n",
       "        70.91412742,  89.75069252, 110.8033241 , 134.07202216,\n",
       "       159.5567867 , 187.25761773, 217.17451524, 249.30747922,\n",
       "       283.6565097 , 320.22160665, 359.00277008, 400.        ])"
      ]
     },
     "execution_count": 5,
     "metadata": {},
     "output_type": "execute_result"
    }
   ],
   "source": [
    "x2"
   ]
  },
  {
   "cell_type": "code",
   "execution_count": 6,
   "metadata": {},
   "outputs": [],
   "source": [
    "ones = np.ones_like(x)"
   ]
  },
  {
   "cell_type": "code",
   "execution_count": 7,
   "metadata": {},
   "outputs": [
    {
     "data": {
      "text/plain": [
       "array([1., 1., 1., 1., 1., 1., 1., 1., 1., 1., 1., 1., 1., 1., 1., 1., 1.,\n",
       "       1., 1., 1.])"
      ]
     },
     "execution_count": 7,
     "metadata": {},
     "output_type": "execute_result"
    }
   ],
   "source": [
    "ones"
   ]
  },
  {
   "cell_type": "markdown",
   "metadata": {},
   "source": [
    "### True parameters"
   ]
  },
  {
   "cell_type": "code",
   "execution_count": 8,
   "metadata": {},
   "outputs": [],
   "source": [
    "m_true = np.array([10.,10.,-9.8])"
   ]
  },
  {
   "cell_type": "markdown",
   "metadata": {},
   "source": [
    "### Sensitivity matrix"
   ]
  },
  {
   "cell_type": "code",
   "execution_count": 9,
   "metadata": {},
   "outputs": [],
   "source": [
    "A = np.empty((x.size,m_true.size))"
   ]
  },
  {
   "cell_type": "code",
   "execution_count": 10,
   "metadata": {},
   "outputs": [],
   "source": [
    "A[:,0] = ones\n",
    "A[:,1] = x\n",
    "A[:,2] = 0.5*x2"
   ]
  },
  {
   "cell_type": "code",
   "execution_count": 11,
   "metadata": {},
   "outputs": [
    {
     "data": {
      "text/plain": [
       "array([[  1.        ,   0.        ,   0.        ],\n",
       "       [  1.        ,   1.05263158,   0.55401662],\n",
       "       [  1.        ,   2.10526316,   2.21606648],\n",
       "       [  1.        ,   3.15789474,   4.98614958],\n",
       "       [  1.        ,   4.21052632,   8.86426593],\n",
       "       [  1.        ,   5.26315789,  13.85041551],\n",
       "       [  1.        ,   6.31578947,  19.94459834],\n",
       "       [  1.        ,   7.36842105,  27.1468144 ],\n",
       "       [  1.        ,   8.42105263,  35.45706371],\n",
       "       [  1.        ,   9.47368421,  44.87534626],\n",
       "       [  1.        ,  10.52631579,  55.40166205],\n",
       "       [  1.        ,  11.57894737,  67.03601108],\n",
       "       [  1.        ,  12.63157895,  79.77839335],\n",
       "       [  1.        ,  13.68421053,  93.62880886],\n",
       "       [  1.        ,  14.73684211, 108.58725762],\n",
       "       [  1.        ,  15.78947368, 124.65373961],\n",
       "       [  1.        ,  16.84210526, 141.82825485],\n",
       "       [  1.        ,  17.89473684, 160.11080332],\n",
       "       [  1.        ,  18.94736842, 179.50138504],\n",
       "       [  1.        ,  20.        , 200.        ]])"
      ]
     },
     "execution_count": 11,
     "metadata": {},
     "output_type": "execute_result"
    }
   ],
   "source": [
    "A"
   ]
  },
  {
   "cell_type": "markdown",
   "metadata": {},
   "source": [
    "### Observed data"
   ]
  },
  {
   "cell_type": "code",
   "execution_count": 12,
   "metadata": {},
   "outputs": [],
   "source": [
    "np.random.seed(40)\n",
    "mu, std = 0.,.10\n",
    "r = np.random.normal(mu,std,x.size)"
   ]
  },
  {
   "cell_type": "code",
   "execution_count": 13,
   "metadata": {},
   "outputs": [],
   "source": [
    "y_obs = np.dot(A,m_true)"
   ]
  },
  {
   "cell_type": "code",
   "execution_count": 14,
   "metadata": {},
   "outputs": [],
   "source": [
    "y_obs[5] -= 250.\n",
    "y_obs[10] +=150.\n",
    "y_obs[15] +=550.\n",
    "y_obs[17] -= 300"
   ]
  },
  {
   "cell_type": "markdown",
   "metadata": {},
   "source": [
    "### Plotting data"
   ]
  },
  {
   "cell_type": "code",
   "execution_count": 15,
   "metadata": {},
   "outputs": [
    {
     "data": {
      "image/png": "[encoded data removed]",
      "text/plain": [
       "<Figure size 720x720 with 1 Axes>"
      ]
     },
     "metadata": {
      "needs_background": "light"
     },
     "output_type": "display_data"
    }
   ],
   "source": [
    "plt.figure(figsize=(10,10))\n",
    "plt.plot(x, y_obs, 'b-', label = 'observed')\n",
    "plt.legend(loc = 'best', fontsize = 14)\n",
    "plt.xticks(fontsize = 12)\n",
    "plt.yticks(fontsize = 12)\n",
    "plt.xlabel('Time (s)', fontsize = 16)\n",
    "plt.ylabel('Observed position (m)', fontsize = 16)\n",
    "plt.grid()\n",
    "plt.show()"
   ]
  },
  {
   "cell_type": "markdown",
   "metadata": {},
   "source": [
    "## Solving linear system with L2 and L1 norm"
   ]
  },
  {
   "cell_type": "markdown",
   "metadata": {},
   "source": [
    "### L2-norm"
   ]
  },
  {
   "cell_type": "code",
   "execution_count": 16,
   "metadata": {},
   "outputs": [],
   "source": [
    "def L2_norm(A,d):\n",
    "    At = A.T\n",
    "    AtA = np.dot(At,A)\n",
    "    Atd = np.dot(At,d)\n",
    "    m = np.linalg.solve(AtA,Atd)\n",
    "    return m "
   ]
  },
  {
   "cell_type": "code",
   "execution_count": 17,
   "metadata": {},
   "outputs": [],
   "source": [
    "m_L2 = L2_norm(A,y_obs)"
   ]
  },
  {
   "cell_type": "code",
   "execution_count": 18,
   "metadata": {},
   "outputs": [],
   "source": [
    "y_L2 = np.dot(A,m_L2)"
   ]
  },
  {
   "cell_type": "markdown",
   "metadata": {},
   "source": [
    "### L1-norm"
   ]
  },
  {
   "cell_type": "code",
   "execution_count": 19,
   "metadata": {},
   "outputs": [],
   "source": [
    "def L1_norm(A,d,n,std):\n",
    "    At = A.T\n",
    "    AtA = np.dot(At,A)\n",
    "    Atd = np.dot(At,d)\n",
    "    m0 = np.linalg.solve(AtA,Atd)\n",
    "    for k in range(n):\n",
    "        r = d - np.dot(A,m0)\n",
    "        R = np.diag(1/np.abs(r))\n",
    "        AtR = np.dot(At,R)\n",
    "        AtRA= np.dot(AtR,A)\n",
    "        AtRd = np.dot(AtR,d)\n",
    "        m = np.linalg.solve(AtRA,AtRd)\n",
    "        a = np.linalg.norm(m - m0)\n",
    "        b = 1+np.linalg.norm(m)\n",
    "        c = a/b\n",
    "        tau = 2*std\n",
    "        if c < tau:\n",
    "            break\n",
    "        else:\n",
    "            m0=m\n",
    "            continue\n",
    "    return m\n",
    "        "
   ]
  },
  {
   "cell_type": "code",
   "execution_count": 20,
   "metadata": {},
   "outputs": [],
   "source": [
    "m_L1 = L1_norm(A,y_obs,10,1e-10)"
   ]
  },
  {
   "cell_type": "code",
   "execution_count": 21,
   "metadata": {},
   "outputs": [],
   "source": [
    "y_L1 = np.dot(A,m_L1)"
   ]
  },
  {
   "cell_type": "markdown",
   "metadata": {},
   "source": [
    "### Visualization the results"
   ]
  },
  {
   "cell_type": "code",
   "execution_count": 25,
   "metadata": {},
   "outputs": [
    {
     "data": {
      "image/png": "[encoded data removed]",
      "text/plain": [
       "<Figure size 720x720 with 1 Axes>"
      ]
     },
     "metadata": {
      "needs_background": "light"
     },
     "output_type": "display_data"
    }
   ],
   "source": [
    "plt.figure(figsize=(10,10))\n",
    "plt.plot(x, y_obs, 'b-', label = 'observed')\n",
    "plt.plot(x, y_L2, 'r--', label = 'L2-norm')\n",
    "plt.plot(x, y_L1, 'g--', label = 'L1-norm')\n",
    "plt.legend(loc = 'best', fontsize = 14)\n",
    "plt.xticks(fontsize = 12)\n",
    "plt.yticks(fontsize = 12)\n",
    "plt.xlabel('Time (s)', fontsize = 16)\n",
    "plt.ylabel('Observed position (m)', fontsize = 16)\n",
    "plt.grid()\n",
    "plt.show()"
   ]
  },
  {
   "cell_type": "markdown",
   "metadata": {},
   "source": [
    "### Comparison with estimated and true parameters"
   ]
  },
  {
   "cell_type": "code",
   "execution_count": 26,
   "metadata": {},
   "outputs": [
    {
     "name": "stdout",
     "output_type": "stream",
     "text": [
      "[10.  10.  -9.8]\n",
      "[ 9.99999998 10.         -9.8       ]\n",
      "[-43.99350649  23.35984848 -10.85384199]\n"
     ]
    }
   ],
   "source": [
    "print (m_true)\n",
    "print (m_L1)\n",
    "print (m_L2)"
   ]
  },
  {
   "cell_type": "code",
   "execution_count": null,
   "metadata": {},
   "outputs": [],
   "source": []
  }
 ],
 "metadata": {
  "kernelspec": {
   "display_name": "Python 3",
   "language": "python",
   "name": "python3"
  },
  "language_info": {
   "codemirror_mode": {
    "name": "ipython",
    "version": 3
   },
   "file_extension": ".py",
   "mimetype": "text/x-python",
   "name": "python",
   "nbconvert_exporter": "python",
   "pygments_lexer": "ipython3",
   "version": "3.7.6"
  }
 },
 "nbformat": 4,
 "nbformat_minor": 1
}
