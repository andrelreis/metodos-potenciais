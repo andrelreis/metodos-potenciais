{
 "cells": [
  {
   "cell_type": "markdown",
   "metadata": {},
   "source": [
    "# Realizando processamento no domínio da frequência e interpretação de dados magnéticos "
   ]
  },
  {
   "cell_type": "markdown",
   "metadata": {},
   "source": [
    "## Importando as bibliotecas"
   ]
  },
  {
   "cell_type": "code",
   "execution_count": 1,
   "metadata": {},
   "outputs": [],
   "source": [
    "import numpy as np\n",
    "import matplotlib.pyplot as plt"
   ]
  },
  {
   "cell_type": "code",
   "execution_count": 2,
   "metadata": {},
   "outputs": [],
   "source": [
    "import prism_mag"
   ]
  },
  {
   "cell_type": "markdown",
   "metadata": {},
   "source": [
    "## Gerando os parâmetros das coordenadas"
   ]
  },
  {
   "cell_type": "code",
   "execution_count": 3,
   "metadata": {},
   "outputs": [],
   "source": [
    "Nx = 100\n",
    "Ny = 50\n",
    "ymin = -100.\n",
    "ymax = 1000.\n",
    "xmin = -1000.\n",
    "xmax = 1000.\n",
    "area = [-1000.,1000.,-1000.,1000.]\n",
    "shape = (Nx,Ny)"
   ]
  },
  {
   "cell_type": "code",
   "execution_count": null,
   "metadata": {},
   "outputs": [],
   "source": [
    "x = np.linspace(area[0],area[1],num=Nx)\n",
    "y = np.linspace(area[2],area[3],num=Ny) \n",
    "yc,xc = np.meshgrid(y,x)"
   ]
  },
  {
   "cell_type": "code",
   "execution_count": null,
   "metadata": {},
   "outputs": [],
   "source": [
    "voo = -100.\n",
    "zc = voo*np.ones_like(xc)"
   ]
  },
  {
   "cell_type": "code",
   "execution_count": null,
   "metadata": {},
   "outputs": [],
   "source": [
    "coordinates = np.array([yc.ravel(),xc.ravel(),zc.ravel()])"
   ]
  },
  {
   "cell_type": "markdown",
   "metadata": {},
   "source": [
    "## Gerando os parâmetros do prisma"
   ]
  },
  {
   "cell_type": "code",
   "execution_count": null,
   "metadata": {},
   "outputs": [],
   "source": [
    "intensidades = np.array([50.])"
   ]
  },
  {
   "cell_type": "code",
   "execution_count": null,
   "metadata": {},
   "outputs": [],
   "source": [
    "direcoes = np.array([[-40.,-50.]])"
   ]
  },
  {
   "cell_type": "code",
   "execution_count": null,
   "metadata": {},
   "outputs": [],
   "source": [
    "modelo = np.array([[-50.,50.,-300.,300.,50.,150.]])"
   ]
  },
  {
   "cell_type": "markdown",
   "metadata": {},
   "source": [
    "## Cálculo das componentes do campo de gravidade e do potencial"
   ]
  },
  {
   "cell_type": "code",
   "execution_count": null,
   "metadata": {},
   "outputs": [],
   "source": [
    "bz = prism_mag.magnetics(coordinates,modelo,intensidades,direcoes,field=\"b_z\")"
   ]
  },
  {
   "cell_type": "code",
   "execution_count": null,
   "metadata": {},
   "outputs": [],
   "source": [
    "bx = prism_mag.magnetics(coordinates,modelo,intensidades,direcoes,field=\"b_x\")"
   ]
  },
  {
   "cell_type": "code",
   "execution_count": null,
   "metadata": {},
   "outputs": [],
   "source": [
    "by = prism_mag.magnetics(coordinates,modelo,intensidades,direcoes,field=\"b_y\")"
   ]
  },
  {
   "cell_type": "markdown",
   "metadata": {},
   "source": [
    "### Anomalia de campo total aproximada"
   ]
  },
  {
   "cell_type": "code",
   "execution_count": null,
   "metadata": {},
   "outputs": [],
   "source": [
    "I0,D0 = -15.,-15.\n",
    "j0x = np.cos(np.deg2rad(I0))*np.cos(np.deg2rad(D0))\n",
    "j0y = np.cos(np.deg2rad(I0))*np.sin(np.deg2rad(D0))\n",
    "j0z = np.sin(np.deg2rad(I0))\n",
    "tfa = j0x*bx + j0y*by + j0z*bz"
   ]
  },
  {
   "cell_type": "markdown",
   "metadata": {},
   "source": [
    "### Gerando um conjunto de dados observados com ruído Gaussiano"
   ]
  },
  {
   "cell_type": "code",
   "execution_count": null,
   "metadata": {},
   "outputs": [],
   "source": [
    "np.random.seed(seed=40)\n",
    "std_noise = 0.02*np.max(np.abs(tfa))\n",
    "\n",
    "r = np.random.normal(0.0, std_noise, tfa.size)\n",
    "\n",
    "print ('%.3f nT' % std_noise)"
   ]
  },
  {
   "cell_type": "code",
   "execution_count": null,
   "metadata": {},
   "outputs": [],
   "source": [
    "tfa_obs = tfa + r"
   ]
  },
  {
   "cell_type": "markdown",
   "metadata": {},
   "source": [
    "## Visualização dos dados calculados "
   ]
  },
  {
   "cell_type": "code",
   "execution_count": null,
   "metadata": {},
   "outputs": [],
   "source": [
    "title_font = 18\n",
    "bottom_font = 15\n",
    "plt.close('all')\n",
    "plt.figure(figsize=(7,7), tight_layout=True)\n",
    "\n",
    "plt.xlabel('easting (m)', fontsize = title_font)\n",
    "plt.ylabel('northing (m)', fontsize = title_font)\n",
    "plt.title('Observed TFA (nT)', fontsize=title_font)\n",
    "plt.pcolor(yc,xc,tfa_obs.reshape(shape),shading='auto',cmap='jet')\n",
    "plt.tick_params(axis='both', which='major', labelsize=bottom_font)\n",
    "cb = plt.colorbar(pad=0.01, aspect=40, shrink=1.0)\n",
    "cb.ax.tick_params(labelsize=bottom_font)\n",
    "\n",
    "file_name = 'images/observed_TFA'\n",
    "plt.savefig(file_name+'.png',dpi=300)\n",
    "\n",
    "plt.show()"
   ]
  },
  {
   "cell_type": "markdown",
   "metadata": {},
   "source": [
    "## Resolvendo o problema inverso "
   ]
  },
  {
   "cell_type": "code",
   "execution_count": null,
   "metadata": {},
   "outputs": [],
   "source": [
    "main_field = np.array([-15.,-15.])\n",
    "magnetization = np.array([-40.,-50.])"
   ]
  },
  {
   "cell_type": "code",
   "execution_count": null,
   "metadata": {},
   "outputs": [],
   "source": [
    "depth = 0.\n",
    "zs = depth*np.ones_like(xc)\n",
    "ys = yc\n",
    "xs = xc"
   ]
  },
  {
   "cell_type": "code",
   "execution_count": null,
   "metadata": {},
   "outputs": [],
   "source": [
    "sources = np.array([ys.ravel(),xs.ravel(),zs.ravel()])"
   ]
  },
  {
   "cell_type": "code",
   "execution_count": null,
   "metadata": {},
   "outputs": [],
   "source": [
    "I = np.identity(xs.size)"
   ]
  },
  {
   "cell_type": "code",
   "execution_count": null,
   "metadata": {},
   "outputs": [],
   "source": [
    "G = eqlayer.sensitivity(coordinates,sources,main_field,magnetization)"
   ]
  },
  {
   "cell_type": "code",
   "execution_count": null,
   "metadata": {},
   "outputs": [],
   "source": [
    "mu = 1e-6"
   ]
  },
  {
   "cell_type": "code",
   "execution_count": null,
   "metadata": {},
   "outputs": [],
   "source": [
    "p = np.linalg.solve(np.dot(G.T,G) + mu*I,np.dot(G.T,tfa_obs))"
   ]
  },
  {
   "cell_type": "code",
   "execution_count": null,
   "metadata": {},
   "outputs": [],
   "source": [
    "tfa_pred = eqlayer.tfa(coordinates,sources,main_field,p,magnetization)"
   ]
  },
  {
   "cell_type": "code",
   "execution_count": null,
   "metadata": {},
   "outputs": [],
   "source": [
    "residuals = tfa_obs - tfa_pred\n",
    "mean = np.mean(residuals)\n",
    "std_deviation = np.std(residuals)"
   ]
  },
  {
   "cell_type": "markdown",
   "metadata": {},
   "source": [
    "### Comparando dado observado com dado predito"
   ]
  },
  {
   "cell_type": "code",
   "execution_count": null,
   "metadata": {},
   "outputs": [],
   "source": [
    "title_font = 18\n",
    "bottom_font = 15\n",
    "plt.close('all')\n",
    "plt.figure(figsize=(10,10), tight_layout=True)\n",
    "\n",
    "plt.subplot(2,2,1)\n",
    "plt.xlabel('easting (m)', fontsize = title_font)\n",
    "plt.ylabel('northing (m)', fontsize = title_font)\n",
    "plt.title('Observed TFA (nT)', fontsize=title_font)\n",
    "plt.pcolor(yc,xc,tfa_obs.reshape(shape),shading='auto',cmap='jet')\n",
    "plt.tick_params(axis='both', which='major', labelsize=bottom_font)\n",
    "cb = plt.colorbar(pad=0.01, aspect=40, shrink=1.0)\n",
    "cb.ax.tick_params(labelsize=bottom_font)\n",
    "\n",
    "plt.subplot(2,2,2)\n",
    "plt.xlabel('easting (m)', fontsize = title_font)\n",
    "plt.ylabel('northing (m)', fontsize = title_font)\n",
    "plt.title('Predicted TFA (nT)', fontsize=title_font)\n",
    "plt.pcolor(yc,xc,tfa_pred.reshape(shape),shading='auto',cmap='jet')\n",
    "plt.tick_params(axis='both', which='major', labelsize=bottom_font)\n",
    "cb = plt.colorbar(pad=0.01, aspect=40, shrink=1.0)\n",
    "cb.ax.tick_params(labelsize=bottom_font)\n",
    "\n",
    "plt.subplot(2,2,3)\n",
    "plt.xlabel('easting (m)', fontsize = title_font)\n",
    "plt.ylabel('northing (m)', fontsize = title_font)\n",
    "plt.title('Residuals (nT)', fontsize=title_font)\n",
    "plt.pcolor(yc,xc,residuals.reshape(shape),shading='auto',cmap='jet')\n",
    "plt.tick_params(axis='both', which='major', labelsize=bottom_font)\n",
    "cb = plt.colorbar(pad=0.01, aspect=40, shrink=1.0)\n",
    "cb.ax.tick_params(labelsize=bottom_font)\n",
    "\n",
    "plt.subplot(2,2,4)\n",
    "n, bins, patches = plt.hist(residuals, 50, density=True, facecolor='g', alpha=0.75)\n",
    "plt.xlabel('Residuals (mu = %.1f | std = %.1f nT)' % (mean,std_deviation),fontsize = title_font)\n",
    "plt.ylabel('Frequency',fontsize = title_font)\n",
    "plt.title('Histogram of residuals',fontsize = title_font)\n",
    "plt.grid(True)\n",
    "\n",
    "\n",
    "file_name = 'images/data_fitting_eqlayer_upward'\n",
    "plt.savefig(file_name+'.png',dpi=300)\n",
    "\n",
    "plt.show()"
   ]
  },
  {
   "cell_type": "markdown",
   "metadata": {},
   "source": [
    "## Realizando uma continuação para cima"
   ]
  },
  {
   "cell_type": "code",
   "execution_count": null,
   "metadata": {},
   "outputs": [],
   "source": [
    "up = -500.\n",
    "zu = up*np.ones_like(xc)\n",
    "yu = yc\n",
    "xu = xc"
   ]
  },
  {
   "cell_type": "code",
   "execution_count": null,
   "metadata": {},
   "outputs": [],
   "source": [
    "upward = np.array([yu.ravel(),xu.ravel(),zu.ravel()])"
   ]
  },
  {
   "cell_type": "code",
   "execution_count": null,
   "metadata": {},
   "outputs": [],
   "source": [
    "tfa_rtp = eqlayer.tfa(upward,sources,main_field,p,magnetization)"
   ]
  },
  {
   "cell_type": "code",
   "execution_count": null,
   "metadata": {},
   "outputs": [],
   "source": [
    "title_font = 18\n",
    "bottom_font = 15\n",
    "plt.close('all')\n",
    "plt.figure(figsize=(7,7), tight_layout=True)\n",
    "\n",
    "plt.xlabel('easting (m)', fontsize = title_font)\n",
    "plt.ylabel('northing (m)', fontsize = title_font)\n",
    "plt.title('Reduced TFA (nT)', fontsize=title_font)\n",
    "plt.pcolor(yc,xc,tfa_rtp.reshape(shape),shading='auto',cmap='jet')\n",
    "plt.tick_params(axis='both', which='major', labelsize=bottom_font)\n",
    "cb = plt.colorbar(pad=0.01, aspect=40, shrink=1.0)\n",
    "cb.ax.tick_params(labelsize=bottom_font)\n",
    "\n",
    "file_name = 'images/TFA_upward_continued'\n",
    "plt.savefig(file_name+'.png',dpi=300)\n",
    "\n",
    "plt.show()"
   ]
  },
  {
   "cell_type": "code",
   "execution_count": null,
   "metadata": {},
   "outputs": [],
   "source": []
  }
 ],
 "metadata": {
  "kernelspec": {
   "display_name": "Python 3",
   "language": "python",
   "name": "python3"
  },
  "language_info": {
   "codemirror_mode": {
    "name": "ipython",
    "version": 3
   },
   "file_extension": ".py",
   "mimetype": "text/x-python",
   "name": "python",
   "nbconvert_exporter": "python",
   "pygments_lexer": "ipython3",
   "version": "3.7.6"
  }
 },
 "nbformat": 4,
 "nbformat_minor": 2
}
